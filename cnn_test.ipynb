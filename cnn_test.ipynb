{
 "cells": [
  {
   "cell_type": "code",
   "execution_count": 91,
   "metadata": {},
   "outputs": [],
   "source": [
    "import matplotlib.pyplot as plt\n",
    "import numpy as np\n",
    "from sklearn import datasets\n",
    "import jax.numpy as jnp\n",
    "import tensorflow as tf\n",
    "from tensorflow.keras import layers, models\n",
    "from sklearn.model_selection import train_test_split\n",
    "import seaborn as sns\n"
   ]
  },
  {
   "cell_type": "markdown",
   "metadata": {},
   "source": [
    "## Preprocess"
   ]
  },
  {
   "cell_type": "code",
   "execution_count": 92,
   "metadata": {},
   "outputs": [
    {
     "data": {
      "image/png": "[encoded data removed]",
      "text/plain": [
       "<Figure size 216x216 with 1 Axes>"
      ]
     },
     "metadata": {
      "needs_background": "light"
     },
     "output_type": "display_data"
    }
   ],
   "source": [
    "# Load the digits dataset\n",
    "digits = datasets.load_digits()\n",
    "\n",
    "# Display the last digit\n",
    "plt.figure(1, figsize=(3, 3))\n",
    "plt.imshow(digits.images[-1], cmap=plt.cm.gray_r, interpolation=\"nearest\")\n",
    "plt.show()"
   ]
  },
  {
   "cell_type": "code",
   "execution_count": 93,
   "metadata": {},
   "outputs": [
    {
     "name": "stdout",
     "output_type": "stream",
     "text": [
      "Number of digits in the dataset: 1797\n",
      "Class distribution: {0: 178, 1: 182, 2: 177, 3: 183, 4: 181, 5: 182, 6: 181, 7: 179, 8: 174, 9: 180}\n"
     ]
    },
    {
     "data": {
      "image/png": "[encoded data removed]",
      "text/plain": [
       "<Figure size 720x216 with 5 Axes>"
      ]
     },
     "metadata": {
      "needs_background": "light"
     },
     "output_type": "display_data"
    }
   ],
   "source": [
    "# 1. Count the number of digits\n",
    "num_digits = len(digits.images)\n",
    "print(f\"Number of digits in the dataset: {num_digits}\")\n",
    "\n",
    "# Count the distribution of each class\n",
    "unique, counts = np.unique(digits.target, return_counts=True)\n",
    "class_distribution = dict(zip(unique, counts))\n",
    "print(\"Class distribution:\", class_distribution)\n",
    "\n",
    "# 2. View some digits from the classes 0, 1, 2, 3, 4\n",
    "fig, axs = plt.subplots(1, 5, figsize=(10, 3))\n",
    "classes_to_view = [0, 1, 2, 3, 4]\n",
    "for i, cls in enumerate(classes_to_view):\n",
    "    # Get the first image of each class\n",
    "    idx = np.where(digits.target == cls)[0][0]\n",
    "    axs[i].imshow(digits.images[idx], cmap=plt.cm.gray_r, interpolation='nearest')\n",
    "    axs[i].set_title(f'Class {cls}')\n",
    "    axs[i].axis('off')\n",
    "\n",
    "plt.show()\n"
   ]
  },
  {
   "cell_type": "markdown",
   "metadata": {},
   "source": [
    "## Filtering only few classes"
   ]
  },
  {
   "cell_type": "code",
   "execution_count": 94,
   "metadata": {},
   "outputs": [
    {
     "name": "stdout",
     "output_type": "stream",
     "text": [
      "Number of filtered images: 901\n",
      "Filtered class distribution: {0: 178, 1: 182, 2: 177, 3: 183, 4: 181}\n"
     ]
    }
   ],
   "source": [
    "classes_to_keep = [0, 1, 2, 3, 4]\n",
    "indices_to_keep = np.isin(digits.target, classes_to_keep)\n",
    "\n",
    "filtered_images = digits.images[indices_to_keep]\n",
    "filtered_labels = digits.target[indices_to_keep]\n",
    "\n",
    "# Print the number of images and class distribution in the filtered dataset\n",
    "num_filtered_images = len(filtered_images)\n",
    "print(f\"Number of filtered images: {num_filtered_images}\")\n",
    "\n",
    "unique_filtered, counts_filtered = np.unique(filtered_labels, return_counts=True)\n",
    "filtered_class_distribution = dict(zip(unique_filtered, counts_filtered))\n",
    "print(\"Filtered class distribution:\", filtered_class_distribution)"
   ]
  },
  {
   "cell_type": "markdown",
   "metadata": {},
   "source": [
    "## Utilities for rotations"
   ]
  },
  {
   "cell_type": "code",
   "execution_count": 95,
   "metadata": {},
   "outputs": [],
   "source": [
    "def inverse_grid_number(n, number):\n",
    "    if 1 <= number <= n**2:\n",
    "        row_index = (number - 1) // n + 1\n",
    "        column_index = (number - 1) % n + 1\n",
    "        return row_index, column_index\n",
    "    else:\n",
    "        raise ValueError(\"Number must be between 1 and n^2 inclusive.\")\n",
    "\n",
    "def grid_number(n, a, b):\n",
    "    if 1 <= a <= n and 1 <= b <= n:\n",
    "        return (a - 1) * n + b\n",
    "    else:\n",
    "        raise ValueError(\"Row and column indices must be between 1 and n inclusive.\")\n",
    "\n",
    "def reflection_grid(n, coordinates):\n",
    "    a, b = coordinates\n",
    "    reflected_b = n - b + 1\n",
    "    return a, reflected_b\n",
    "\n",
    "def rotation_grid(n, coordinates):\n",
    "    a, b = coordinates\n",
    "    rotated_a = n - b + 1\n",
    "    rotated_b = a\n",
    "    return rotated_a, rotated_b\n",
    "\n",
    "def rotate(n, number):\n",
    "    (a,b) = inverse_grid_number(n, number)\n",
    "    (new_a, new_b) = rotation_grid(n, (a,b))\n",
    "    return grid_number(n, new_a, new_b)\n",
    "\n",
    "def reflect(n, number):\n",
    "    (a,b) = inverse_grid_number(n, number)\n",
    "    (new_a, new_b) = reflection_grid(n, (a,b))\n",
    "    return grid_number(n, new_a, new_b)\n",
    "\n",
    "def generate_rotation_matrix(n):\n",
    "    # Define the size of the matrix\n",
    "    matrix_size = n ** 2\n",
    "\n",
    "    # Initialize a matrix with zeros\n",
    "    rotation_matrix = jnp.zeros((matrix_size, matrix_size), dtype=int)\n",
    "\n",
    "    # Set 1 at the specified positions for each column\n",
    "    for m in range(1, matrix_size + 1):\n",
    "        rotated_position = rotate(n, m)\n",
    "        rotation_matrix = rotation_matrix.at[rotated_position - 1, m - 1].set(1)  # Adjust for 0-based indexing\n",
    "\n",
    "    return rotation_matrix\n",
    "\n",
    "def generate_reflection_matrix(n):\n",
    "    # Define the size of the matrix\n",
    "    matrix_size = n ** 2\n",
    "\n",
    "    # Initialize a matrix with zeros\n",
    "    reflection_matrix = jnp.zeros((matrix_size, matrix_size), dtype=int)\n",
    "\n",
    "    # Set 1 at the specified positions for each column\n",
    "    for m in range(1, matrix_size + 1):\n",
    "        reflected_position = reflect(n, m)\n",
    "        reflection_matrix = reflection_matrix.at[reflected_position - 1, m - 1].set(1)  # Adjust for 0-based indexing\n",
    "\n",
    "    return reflection_matrix\n",
    "\n",
    "def generate_d4_matrices(n):\n",
    "    '''Outputs n^2 by n^2 matrices'''\n",
    "    # Get rotation and reflection matrices\n",
    "    R = generate_rotation_matrix(n)\n",
    "    S = generate_reflection_matrix(n)\n",
    "\n",
    "    # Calculate R^2, R^3, SR, SR^2, SR^3\n",
    "    R2 = jnp.dot(R, R)\n",
    "    R3 = jnp.dot(R2, R)\n",
    "    SR = jnp.dot(S, R)\n",
    "    SR2 = jnp.dot(S, R2)\n",
    "    SR3 = jnp.dot(S, R3)\n",
    "\n",
    "    # Generate D4 matrices\n",
    "    D4_matrices = [jnp.eye(n**2), R, R2, R3, S, SR, SR2, SR3]\n",
    "\n",
    "    return D4_matrices\n",
    "\n"
   ]
  },
  {
   "cell_type": "code",
   "execution_count": 100,
   "metadata": {},
   "outputs": [],
   "source": [
    "def apply_transformation(image, transformation_matrix):\n",
    "    flat_image = image.flatten()\n",
    "    transformed_flat_image = jnp.dot(transformation_matrix, flat_image)\n",
    "    return transformed_flat_image.reshape((n, n))\n",
    "\n",
    "def apply_transformation_tf(image, matrix, n):\n",
    "    flat_image = tf.reshape(image, [n**2])\n",
    "    transformed_flat_image = tf.linalg.matvec(matrix, flat_image)\n",
    "    transformed_image = tf.reshape(transformed_flat_image, [n, n])\n",
    "    return transformed_image"
   ]
  },
  {
   "cell_type": "markdown",
   "metadata": {},
   "source": [
    "## Augmenting the dataset"
   ]
  },
  {
   "cell_type": "code",
   "execution_count": 96,
   "metadata": {},
   "outputs": [
    {
     "name": "stdout",
     "output_type": "stream",
     "text": [
      "901\n",
      "augmented images shape: (7208, 8, 8)\n",
      "Number of augmented images: 7208\n",
      "Augmented class distribution: {0: 1424, 1: 1456, 2: 1416, 3: 1464, 4: 1448}\n"
     ]
    },
    {
     "data": {
      "image/png": "[encoded data removed]",
      "text/plain": [
       "<Figure size 720x216 with 5 Axes>"
      ]
     },
     "metadata": {
      "needs_background": "light"
     },
     "output_type": "display_data"
    }
   ],
   "source": [
    "# Generate D4 rotation matrices for 8x8 images\n",
    "n = 8\n",
    "d4_matrices = generate_d4_matrices(n)\n",
    "\n",
    "# Function to apply a transformation matrix to an image\n",
    "def apply_transformation(image, transformation_matrix):\n",
    "    flat_image = image.flatten()\n",
    "    transformed_flat_image = jnp.dot(transformation_matrix, flat_image)\n",
    "    return transformed_flat_image.reshape((n, n))\n",
    "\n",
    "def apply_transformation_tf(image, matrix, n):\n",
    "    flat_image = tf.reshape(image, [n**2])\n",
    "    transformed_flat_image = tf.linalg.matvec(matrix, flat_image)\n",
    "    transformed_image = tf.reshape(transformed_flat_image, [n, n])\n",
    "    return transformed_image\n",
    "\n",
    "\n",
    "# Create augmented dataset\n",
    "augmented_images = []\n",
    "augmented_labels = []\n",
    "\n",
    "print(len(filtered_images))\n",
    "\n",
    "for img, lbl in zip(filtered_images, filtered_labels):\n",
    "    for matrix in d4_matrices:\n",
    "        transformed_image = apply_transformation(img, matrix)\n",
    "        augmented_images.append(transformed_image)\n",
    "        augmented_labels.append(lbl)\n",
    "\n",
    "\n",
    "augmented_images = np.array(augmented_images)\n",
    "augmented_labels = np.array(augmented_labels)\n",
    "\n",
    "print(f\"augmented images shape: {augmented_images.shape}\")\n",
    "\n",
    "# Print the number of images and class distribution in the augmented dataset\n",
    "num_augmented_images = len(augmented_images)\n",
    "print(f\"Number of augmented images: {num_augmented_images}\")\n",
    "\n",
    "unique_augmented, counts_augmented = np.unique(augmented_labels, return_counts=True)\n",
    "augmented_class_distribution = dict(zip(unique_augmented, counts_augmented))\n",
    "print(\"Augmented class distribution:\", augmented_class_distribution)\n",
    "\n",
    "# Display some of the augmented digits\n",
    "fig, axs = plt.subplots(1, 5, figsize=(10, 3))\n",
    "for i, cls in enumerate(classes_to_keep):\n",
    "    # Get the first image of each class in the augmented dataset\n",
    "    idx = np.where(augmented_labels == cls)[0][0]\n",
    "    axs[i].imshow(augmented_images[idx], cmap=plt.cm.gray_r, interpolation='nearest')\n",
    "    axs[i].set_title(f'Class {cls}')\n",
    "    axs[i].axis('off')\n",
    "\n",
    "plt.show()"
   ]
  },
  {
   "cell_type": "code",
   "execution_count": 97,
   "metadata": {},
   "outputs": [
    {
     "data": {
      "image/png": "[encoded data removed]",
      "text/plain": [
       "<Figure size 1080x432 with 10 Axes>"
      ]
     },
     "metadata": {
      "needs_background": "light"
     },
     "output_type": "display_data"
    }
   ],
   "source": [
    "fig, axs = plt.subplots(2, 5, figsize=(15, 6))\n",
    "for i, cls in enumerate(classes_to_keep):\n",
    "    # Get the first image of each class in the original dataset\n",
    "    idx_original = np.where(filtered_labels == cls)[0][0]\n",
    "    axs[0, i].imshow(filtered_images[idx_original], cmap=plt.cm.gray_r, interpolation='nearest')\n",
    "    axs[0, i].set_title(f'Original Class {cls}')\n",
    "    axs[0, i].axis('off')\n",
    "    \n",
    "    # Get the first rotated image of the same class in the augmented dataset\n",
    "    idx_augmented = np.where(augmented_labels == cls)[0][3]\n",
    "    axs[1, i].imshow(augmented_images[idx_augmented], cmap=plt.cm.gray_r, interpolation='nearest')\n",
    "    axs[1, i].set_title(f'Rotated Class {cls}')\n",
    "    axs[1, i].axis('off')\n",
    "\n",
    "plt.show()"
   ]
  },
  {
   "cell_type": "code",
   "execution_count": 98,
   "metadata": {},
   "outputs": [],
   "source": [
    "augmented_images = augmented_images / 16.0"
   ]
  },
  {
   "cell_type": "code",
   "execution_count": 99,
   "metadata": {},
   "outputs": [
    {
     "ename": "IndexError",
     "evalue": "index 4 is out of bounds for axis 1 with size 4",
     "output_type": "error",
     "traceback": [
      "\u001b[0;31m---------------------------------------------------------------------------\u001b[0m",
      "\u001b[0;31mIndexError\u001b[0m                                Traceback (most recent call last)",
      "\u001b[0;32m/var/folders/60/3d7rr4bs15gb8hrwhcmkd7_h0000gn/T/ipykernel_99480/1069544839.py\u001b[0m in \u001b[0;36m<module>\u001b[0;34m\u001b[0m\n\u001b[1;32m      1\u001b[0m \u001b[0mnum_classes\u001b[0m \u001b[0;34m=\u001b[0m \u001b[0;36m4\u001b[0m\u001b[0;34m\u001b[0m\u001b[0;34m\u001b[0m\u001b[0m\n\u001b[0;32m----> 2\u001b[0;31m \u001b[0maugmented_labels\u001b[0m \u001b[0;34m=\u001b[0m \u001b[0mtf\u001b[0m\u001b[0;34m.\u001b[0m\u001b[0mkeras\u001b[0m\u001b[0;34m.\u001b[0m\u001b[0mutils\u001b[0m\u001b[0;34m.\u001b[0m\u001b[0mto_categorical\u001b[0m\u001b[0;34m(\u001b[0m\u001b[0maugmented_labels\u001b[0m\u001b[0;34m,\u001b[0m \u001b[0mnum_classes\u001b[0m\u001b[0;34m)\u001b[0m\u001b[0;34m\u001b[0m\u001b[0;34m\u001b[0m\u001b[0m\n\u001b[0m",
      "\u001b[0;32m~/opt/anaconda3/lib/python3.8/site-packages/keras/utils/np_utils.py\u001b[0m in \u001b[0;36mto_categorical\u001b[0;34m(y, num_classes, dtype)\u001b[0m\n\u001b[1;32m     71\u001b[0m     \u001b[0mn\u001b[0m \u001b[0;34m=\u001b[0m \u001b[0my\u001b[0m\u001b[0;34m.\u001b[0m\u001b[0mshape\u001b[0m\u001b[0;34m[\u001b[0m\u001b[0;36m0\u001b[0m\u001b[0;34m]\u001b[0m\u001b[0;34m\u001b[0m\u001b[0;34m\u001b[0m\u001b[0m\n\u001b[1;32m     72\u001b[0m     \u001b[0mcategorical\u001b[0m \u001b[0;34m=\u001b[0m \u001b[0mnp\u001b[0m\u001b[0;34m.\u001b[0m\u001b[0mzeros\u001b[0m\u001b[0;34m(\u001b[0m\u001b[0;34m(\u001b[0m\u001b[0mn\u001b[0m\u001b[0;34m,\u001b[0m \u001b[0mnum_classes\u001b[0m\u001b[0;34m)\u001b[0m\u001b[0;34m,\u001b[0m \u001b[0mdtype\u001b[0m\u001b[0;34m=\u001b[0m\u001b[0mdtype\u001b[0m\u001b[0;34m)\u001b[0m\u001b[0;34m\u001b[0m\u001b[0;34m\u001b[0m\u001b[0m\n\u001b[0;32m---> 73\u001b[0;31m     \u001b[0mcategorical\u001b[0m\u001b[0;34m[\u001b[0m\u001b[0mnp\u001b[0m\u001b[0;34m.\u001b[0m\u001b[0marange\u001b[0m\u001b[0;34m(\u001b[0m\u001b[0mn\u001b[0m\u001b[0;34m)\u001b[0m\u001b[0;34m,\u001b[0m \u001b[0my\u001b[0m\u001b[0;34m]\u001b[0m \u001b[0;34m=\u001b[0m \u001b[0;36m1\u001b[0m\u001b[0;34m\u001b[0m\u001b[0;34m\u001b[0m\u001b[0m\n\u001b[0m\u001b[1;32m     74\u001b[0m     \u001b[0moutput_shape\u001b[0m \u001b[0;34m=\u001b[0m \u001b[0minput_shape\u001b[0m \u001b[0;34m+\u001b[0m \u001b[0;34m(\u001b[0m\u001b[0mnum_classes\u001b[0m\u001b[0;34m,\u001b[0m\u001b[0;34m)\u001b[0m\u001b[0;34m\u001b[0m\u001b[0;34m\u001b[0m\u001b[0m\n\u001b[1;32m     75\u001b[0m     \u001b[0mcategorical\u001b[0m \u001b[0;34m=\u001b[0m \u001b[0mnp\u001b[0m\u001b[0;34m.\u001b[0m\u001b[0mreshape\u001b[0m\u001b[0;34m(\u001b[0m\u001b[0mcategorical\u001b[0m\u001b[0;34m,\u001b[0m \u001b[0moutput_shape\u001b[0m\u001b[0;34m)\u001b[0m\u001b[0;34m\u001b[0m\u001b[0;34m\u001b[0m\u001b[0m\n",
      "\u001b[0;31mIndexError\u001b[0m: index 4 is out of bounds for axis 1 with size 4"
     ]
    }
   ],
   "source": [
    "num_classes = 4\n",
    "augmented_labels = tf.keras.utils.to_categorical(augmented_labels, num_classes)"
   ]
  },
  {
   "cell_type": "code",
   "execution_count": 71,
   "metadata": {},
   "outputs": [],
   "source": [
    "X_train, X_test, y_train, y_test = train_test_split(augmented_images, augmented_labels, test_size=0.2, random_state=42)\n",
    "reps = tf.transpose(tf.stack(generate_d4_matrices(8), axis=0), perm = (0, 2, 1))\n",
    "# ids = tf.transpose(tf.stack([np.eye(8) for i in range(8)], axis=0), perm = (0, 2, 1))"
   ]
  },
  {
   "cell_type": "code",
   "execution_count": 73,
   "metadata": {},
   "outputs": [
    {
     "data": {
      "text/plain": [
       "(4633,)"
      ]
     },
     "execution_count": 73,
     "metadata": {},
     "output_type": "execute_result"
    }
   ],
   "source": [
    "y_train.shape"
   ]
  },
  {
   "cell_type": "markdown",
   "metadata": {},
   "source": [
    "### The below cell is ONLY if we want to preprocess first"
   ]
  },
  {
   "cell_type": "code",
   "execution_count": null,
   "metadata": {},
   "outputs": [],
   "source": [
    "\n",
    "X_train = tf.reduce_sum(tf.transpose(tf.reshape((tf.reshape(X_train, (-1, 1, 1, 64)) @ reps), (-1, 8, 8, 8)), perm=[0,2,3,1]), -1)\n",
    "X_test = tf.reduce_sum(tf.transpose(tf.reshape((tf.reshape(X_test, (-1, 1, 1, 64)) @ reps), (-1, 8, 8, 8)), perm=[0,2,3,1]), -1)"
   ]
  },
  {
   "cell_type": "markdown",
   "metadata": {},
   "source": [
    "# Basic conv model"
   ]
  },
  {
   "cell_type": "code",
   "execution_count": 16,
   "metadata": {},
   "outputs": [],
   "source": [
    "class FirstConvModel(tf.keras.Model):\n",
    "    def __init__(self, num_filters, kernel_size, padding, activation):\n",
    "        super().__init__()\n",
    "        self.flatten = layers.Flatten()\n",
    "        self.dense = layers.Dense(64, activation='relu')\n",
    "        self.softmax = layers.Dense(num_classes, activation='softmax')\n",
    "        self.conv = layers.Conv2D(num_filters, kernel_size=kernel_size, padding=padding, activation=activation, data_format=\"channels_last\")\n",
    "\n",
    "\n",
    "    def call(self, inputs):\n",
    "        temp = self.conv(inputs)\n",
    "        print(f\"shape after convolution is{temp.shape}\")\n",
    "        temp = self.flatten(temp)\n",
    "        print(f\"shape after flattening is: {temp.shape}\")\n",
    "        temp = self.dense(temp)\n",
    "        temp = self.softmax(temp)\n",
    "        return temp\n",
    "        # print(inputs.shape)\n",
    "        # temp = tf.reshape((tf.squeeze(tf.expand_dims(inputs.reshape((-1, 1, 64)), axis=-2) @ self.reps)),(-1, 8, 8, 8))\n",
    "        # print(temp.shape)\n",
    "        # print((tf.expand_dims(temp[:,i,:,:], axis=-1).shape))\n",
    "        # temp = sum([self.conv(tf.expand_dims(temp[:,i,:,:]), axis=-1) for i in range(8)])\n",
    "        # temp = self.flatten(temp)\n",
    "        # temp = self.dense(temp)\n",
    "        # temp = self.softmax(temp)\n",
    "        # return temp"
   ]
  },
  {
   "cell_type": "code",
   "execution_count": null,
   "metadata": {},
   "outputs": [],
   "source": [
    "# Build the CNN model\n",
    "\n",
    "\n",
    "model = models.Sequential([\n",
    "    ConvLayer(1, (8, 8), activation='relu', padding='same'),\n",
    "    layers.Flatten(),\n",
    "    layers.Dense(64, activation='relu'),\n",
    "    layers.Dense(num_classes, activation='softmax')\n",
    "])\n",
    "\n",
    "model = ConvModel(1, (8, 8), activation='relu', padding='same')\n",
    "\n",
    "# Compile the model\n",
    "model.compile(optimizer='adam',\n",
    "              loss='categorical_crossentropy',\n",
    "              metrics=['accuracy'])\n",
    "# Train the model\n",
    "X_train_tf = tf.convert_to_tensor(X_train, dtype=tf.float32)\n",
    "print(f\"X shape is: {X_train_tf.shape}, Y shape is: {y_train.shape}\")\n",
    "history = model.fit(X_train_tf, y_train, epochs=10, batch_size=32, validation_split=0.2)\n",
    "\n",
    "# Evaluate the model on the test set\n",
    "test_loss, test_acc = model.evaluate(X_test, y_test, verbose=2)\n",
    "print(f\"Test accuracy: {test_acc}\")"
   ]
  },
  {
   "cell_type": "markdown",
   "metadata": {},
   "source": [
    "# Conv model attempt round 2"
   ]
  },
  {
   "cell_type": "code",
   "execution_count": 15,
   "metadata": {},
   "outputs": [],
   "source": [
    "class AverageD4layer(tf.keras.layers.Layer):\n",
    "    def __init__(self, n, **kwargs):\n",
    "        super(AverageD4layer, self).__init__(**kwargs)\n",
    "        self.n = n\n",
    "        self.d4_matrices = convert_d4_matrices_to_tf(generate_d4_matrices(n))\n",
    "\n",
    "    def call(self, inputs):\n",
    "        batch_size = tf.shape(inputs)[0]\n",
    "        inputs_flat = tf.reshape(inputs, [batch_size, self.n * self.n])\n",
    "        transformed_images = [\n",
    "            tf.reshape(\n",
    "                tf.linalg.matvec(matrix, inputs_flat), [batch_size, self.n, self.n, 1]\n",
    "            )\n",
    "            for matrix in self.d4_matrices\n",
    "        ]\n",
    "        stacked_images = tf.stack(transformed_images, axis=0)\n",
    "        mean_image = tf.reduce_mean(stacked_images, axis=0)\n",
    "        return mean_image\n",
    "\n",
    "\n",
    "def convert_d4_matrices_to_tf(d4_matrices):\n",
    "    return [tf.constant(matrix, dtype=tf.float32) for matrix in d4_matrices]"
   ]
  },
  {
   "cell_type": "code",
   "execution_count": 36,
   "metadata": {},
   "outputs": [
    {
     "name": "stdout",
     "output_type": "stream",
     "text": [
      "X_train_expanded shape: (5766, 8, 8, 1)\n",
      "y_train_tf shape: (5766, 5)\n",
      "X_test_expanded shape: (1442, 8, 8, 1)\n",
      "y_test_tf shape: (1442, 5)\n",
      "Epoch 1/10\n",
      "181/181 [==============================] - 1s 5ms/step - loss: 0.7853 - accuracy: 0.7487 - val_loss: 0.4596 - val_accuracy: 0.8128\n",
      "Epoch 2/10\n",
      "181/181 [==============================] - 1s 5ms/step - loss: 0.3798 - accuracy: 0.8578 - val_loss: 0.3491 - val_accuracy: 0.8682\n",
      "Epoch 3/10\n",
      "181/181 [==============================] - 1s 4ms/step - loss: 0.3232 - accuracy: 0.8770 - val_loss: 0.3272 - val_accuracy: 0.8745\n",
      "Epoch 4/10\n",
      "181/181 [==============================] - 1s 4ms/step - loss: 0.2917 - accuracy: 0.8874 - val_loss: 0.2838 - val_accuracy: 0.8904\n",
      "Epoch 5/10\n",
      "181/181 [==============================] - 1s 4ms/step - loss: 0.2667 - accuracy: 0.8996 - val_loss: 0.2658 - val_accuracy: 0.9001\n",
      "Epoch 6/10\n",
      "181/181 [==============================] - 1s 5ms/step - loss: 0.2511 - accuracy: 0.9041 - val_loss: 0.2579 - val_accuracy: 0.9057\n",
      "Epoch 7/10\n",
      "181/181 [==============================] - 1s 4ms/step - loss: 0.2364 - accuracy: 0.9084 - val_loss: 0.2404 - val_accuracy: 0.9078\n",
      "Epoch 8/10\n",
      "181/181 [==============================] - 1s 4ms/step - loss: 0.2255 - accuracy: 0.9096 - val_loss: 0.2334 - val_accuracy: 0.9029\n",
      "Epoch 9/10\n",
      "181/181 [==============================] - 1s 5ms/step - loss: 0.2121 - accuracy: 0.9180 - val_loss: 0.2181 - val_accuracy: 0.9126\n",
      "Epoch 10/10\n",
      "181/181 [==============================] - 1s 4ms/step - loss: 0.1983 - accuracy: 0.9227 - val_loss: 0.2058 - val_accuracy: 0.9154\n",
      "46/46 [==============================] - 0s 2ms/step - loss: 0.2058 - accuracy: 0.9154\n",
      "Test accuracy: 0.9154\n"
     ]
    }
   ],
   "source": [
    "input_shape = (8, 8, 1)\n",
    "num_classes = 5\n",
    "n = 8\n",
    "\n",
    "model = tf.keras.models.Sequential(\n",
    "    [\n",
    "        AverageD4layer(n, input_shape=input_shape),\n",
    "        tf.keras.layers.Conv2D(1, (8, 8), activation=\"relu\", padding=\"same\"),\n",
    "        tf.keras.layers.Flatten(),\n",
    "        tf.keras.layers.Dense(64, activation=\"relu\"),\n",
    "        tf.keras.layers.Dense(num_classes, activation=\"softmax\"),\n",
    "    ]\n",
    ")\n",
    "model.compile(optimizer=\"adam\", loss=\"categorical_crossentropy\", metrics=[\"accuracy\"])\n",
    "\n",
    "X_train_expanded, X_test_expanded = np.expand_dims(X_train, axis=-1), np.expand_dims(X_test, axis=-1)\n",
    "print(f\"X_train_expanded shape: {X_train_expanded.shape}\")\n",
    "print(f\"y_train_tf shape: {y_train.shape}\")\n",
    "print(f\"X_test_expanded shape: {X_test_expanded.shape}\")\n",
    "print(f\"y_test_tf shape: {y_test.shape}\")\n",
    "\n",
    "model.fit(\n",
    "    X_train_expanded,\n",
    "    y_train,\n",
    "    epochs=10,\n",
    "    batch_size=32,\n",
    "    validation_data=(X_test, y_test),\n",
    ")\n",
    "test_loss, test_acc = model.evaluate(X_test_expanded, y_test)\n",
    "print(f\"Test accuracy: {test_acc:.4f}\")"
   ]
  },
  {
   "cell_type": "markdown",
   "metadata": {},
   "source": [
    "## Conv model round 3"
   ]
  },
  {
   "cell_type": "code",
   "execution_count": 61,
   "metadata": {},
   "outputs": [],
   "source": [
    "class InvariantConvolutionLayer(tf.keras.layers.Layer):\n",
    "    def __init__(self, filters, kernel_size, n, **kwargs):\n",
    "        super(InvariantConvolutionLayer, self).__init__(**kwargs)\n",
    "        self.filters = filters\n",
    "        self.kernel_size = kernel_size\n",
    "        self.n = n\n",
    "        self.d4_matrices = convert_d4_matrices_to_tf(generate_d4_matrices(n))\n",
    "\n",
    "    def build(self, input_shape):\n",
    "        self.kernel = self.add_weight(shape=(self.kernel_size, self.kernel_size, input_shape[-1], self.filters),\n",
    "                                      initializer='glorot_uniform',\n",
    "                                      trainable=True)\n",
    "\n",
    "    def call(self, inputs):\n",
    "        conv_output = tf.nn.conv2d(inputs, self.kernel, strides=[1, 1, 1, 1], padding='SAME')\n",
    "\n",
    "        transformed_images = [\n",
    "            tf.reshape(tf.linalg.matvec(matrix, tf.reshape(conv_output, [tf.shape(conv_output)[0], -1])),\n",
    "                       [tf.shape(conv_output)[0], self.n, self.n, self.filters])\n",
    "            for matrix in self.d4_matrices\n",
    "        ]\n",
    "\n",
    "        stacked_images = tf.stack(transformed_images, axis=0)\n",
    "        mean_image = tf.reduce_mean(stacked_images, axis=0)\n",
    "\n",
    "        return mean_image\n",
    "\n",
    "    def get_combined_transformation_matrix(self):\n",
    "        # Extract the convolutional kernel and reshape it into a matrix\n",
    "        kernel_flat = tf.reshape(self.kernel, [self.kernel_size * self.kernel_size, self.filters])\n",
    "        transformed_kernels = [\n",
    "            tf.matmul(matrix, kernel_flat) \n",
    "            for matrix in self.d4_matrices\n",
    "        ]\n",
    "        combined_matrix = tf.reduce_mean(tf.stack(transformed_kernels), axis=0)\n",
    "        return combined_matrix"
   ]
  },
  {
   "cell_type": "code",
   "execution_count": 45,
   "metadata": {},
   "outputs": [],
   "source": [
    "class InvariantMatrixLayer(tf.keras.layers.Layer):\n",
    "    def __init__(self, n, **kwargs):\n",
    "        super(InvariantMatrixLayer, self).__init__(**kwargs)\n",
    "        self.n = n\n",
    "        self.d4_matrices = convert_d4_matrices_to_tf(generate_d4_matrices(n))\n",
    "\n",
    "    def build(self, input_shape):\n",
    "        self.D = self.add_weight(shape=(self.n * self.n, self.n * self.n),\n",
    "                                 initializer='glorot_uniform',\n",
    "                                 trainable=True)\n",
    "\n",
    "    def call(self, inputs):\n",
    "        batch_size = tf.shape(inputs)[0]\n",
    "        inputs_flat = tf.reshape(inputs, [batch_size, self.n * self.n])\n",
    "\n",
    "        # Apply the learned matrix D\n",
    "        Dx = tf.matmul(inputs_flat, self.D)\n",
    "\n",
    "        # Apply D4 transformations and average\n",
    "        transformed_images = [\n",
    "            tf.reshape(tf.linalg.matvec(matrix, Dx), [batch_size, self.n, self.n, 1])\n",
    "            for matrix in self.d4_matrices\n",
    "        ]\n",
    "\n",
    "        stacked_images = tf.stack(transformed_images, axis=0)\n",
    "        mean_image = tf.reduce_mean(stacked_images, axis=0)\n",
    "\n",
    "        return mean_image\n",
    "\n",
    "    def get_combined_transformation_matrix(self):\n",
    "        transformed_matrices = [\n",
    "            tf.matmul(matrix, self.D)\n",
    "            for matrix in self.d4_matrices\n",
    "        ]\n",
    "        combined_matrix = tf.reduce_mean(tf.stack(transformed_matrices), axis=0)\n",
    "        return combined_matrix"
   ]
  },
  {
   "cell_type": "code",
   "execution_count": 62,
   "metadata": {},
   "outputs": [
    {
     "name": "stdout",
     "output_type": "stream",
     "text": [
      "Epoch 1/10\n",
      "181/181 [==============================] - 2s 6ms/step - loss: 1.3082 - accuracy: 0.5541 - val_loss: 0.9539 - val_accuracy: 0.6990\n",
      "Epoch 2/10\n",
      "181/181 [==============================] - 1s 6ms/step - loss: 0.7521 - accuracy: 0.7275 - val_loss: 0.6592 - val_accuracy: 0.7503\n",
      "Epoch 3/10\n",
      "181/181 [==============================] - 1s 5ms/step - loss: 0.5837 - accuracy: 0.7752 - val_loss: 0.5646 - val_accuracy: 0.7864\n",
      "Epoch 4/10\n",
      "181/181 [==============================] - 1s 4ms/step - loss: 0.5090 - accuracy: 0.8085 - val_loss: 0.5038 - val_accuracy: 0.8107\n",
      "Epoch 5/10\n",
      "181/181 [==============================] - 1s 4ms/step - loss: 0.4594 - accuracy: 0.8300 - val_loss: 0.4685 - val_accuracy: 0.8141\n",
      "Epoch 6/10\n",
      "181/181 [==============================] - 1s 4ms/step - loss: 0.4276 - accuracy: 0.8384 - val_loss: 0.4459 - val_accuracy: 0.8225\n",
      "Epoch 7/10\n",
      "181/181 [==============================] - 1s 6ms/step - loss: 0.4051 - accuracy: 0.8502 - val_loss: 0.4237 - val_accuracy: 0.8356\n",
      "Epoch 8/10\n",
      "181/181 [==============================] - 1s 5ms/step - loss: 0.3883 - accuracy: 0.8545 - val_loss: 0.4121 - val_accuracy: 0.8433\n",
      "Epoch 9/10\n",
      "181/181 [==============================] - 1s 7ms/step - loss: 0.3771 - accuracy: 0.8604 - val_loss: 0.3939 - val_accuracy: 0.8530\n",
      "Epoch 10/10\n",
      "181/181 [==============================] - 1s 8ms/step - loss: 0.3668 - accuracy: 0.8652 - val_loss: 0.3822 - val_accuracy: 0.8592\n",
      "46/46 [==============================] - 0s 2ms/step - loss: 0.3822 - accuracy: 0.8592\n",
      "Test accuracy: 0.8592\n"
     ]
    }
   ],
   "source": [
    "# Define the model using Sequential\n",
    "def create_model(input_shape, n, num_classes):\n",
    "    model = tf.keras.models.Sequential([\n",
    "        InvariantConvolutionLayer(filters=1, kernel_size=8, n=n, input_shape=input_shape),\n",
    "        tf.keras.layers.Flatten(),\n",
    "        tf.keras.layers.Dense(num_classes, activation='softmax')\n",
    "    ])\n",
    "    return model\n",
    "\n",
    "def create_matrix_model(input_shape, n, num_classes):\n",
    "    model = tf.keras.models.Sequential([\n",
    "        InvariantMatrixLayer(n, input_shape=input_shape),\n",
    "        tf.keras.layers.Flatten(),\n",
    "        tf.keras.layers.Dense(num_classes, activation='softmax')\n",
    "    ])\n",
    "    return model\n",
    "\n",
    "input_shape = (8, 8, 1)  # 8x8 image with 1 channel\n",
    "num_classes = 5  # Number of classes (digits 0-9)\n",
    "n = 8  # Dimension of the input image\n",
    "\n",
    "X_train_expanded, X_test_expanded = np.expand_dims(X_train, axis=-1), np.expand_dims(X_test, axis=-1)\n",
    "\n",
    "model = create_model(input_shape, n, num_classes)\n",
    "model.compile(optimizer='adam', loss='categorical_crossentropy', metrics=['accuracy'])\n",
    "\n",
    "model.fit(X_train, y_train, epochs=10, batch_size=32, validation_data=(X_test, y_test))\n",
    "\n",
    "test_loss, test_acc = model.evaluate(X_test, y_test)\n",
    "print(f'Test accuracy: {test_acc:.4f}')\n"
   ]
  },
  {
   "cell_type": "code",
   "execution_count": 55,
   "metadata": {},
   "outputs": [],
   "source": [
    "conv_layer = model.layers[0]\n",
    "combined_matrix = conv_layer.get_combined_transformation_matrix()"
   ]
  },
  {
   "cell_type": "code",
   "execution_count": 37,
   "metadata": {},
   "outputs": [
    {
     "name": "stdout",
     "output_type": "stream",
     "text": [
      "(8, 8, 1, 1)\n"
     ]
    },
    {
     "data": {
      "image/png": "[encoded data removed]",
      "text/plain": [
       "<Figure size 360x360 with 1 Axes>"
      ]
     },
     "metadata": {},
     "output_type": "display_data"
    }
   ],
   "source": [
    "\n",
    "conv_layer = model.layers[1]\n",
    "filters, biases = conv_layer.get_weights()\n",
    "\n",
    "# # Normalize filter values to range [0, 1] for visualization\n",
    "# f_min, f_max = filters.min(), filters.max()\n",
    "# filters = (filters - f_min) / (f_max - f_min)\n",
    "\n",
    "# Plot the filters\n",
    "print(filters.shape)\n",
    "n_filters = filters.shape[3]\n",
    "n_columns = 1\n",
    "n_rows = n_filters // n_columns\n",
    "plt.figure(figsize=(n_columns * 5, n_rows * 5))\n",
    "\n",
    "for i in range(n_filters):\n",
    "    f = filters[:, :, :, i]\n",
    "    ax = plt.subplot(n_rows, n_columns, i + 1)\n",
    "    ax.set_xticks([])\n",
    "    ax.set_yticks([])\n",
    "    plt.imshow(f[:, :, 0], cmap='viridis')\n",
    "\n",
    "    # Display values\n",
    "    for y in range(f.shape[0]):\n",
    "        for x in range(f.shape[1]):\n",
    "            plt.text(x, y, f'{f[y, x, 0]:.2f}', ha='center', va='center', color='white')\n",
    "\n",
    "plt.show()"
   ]
  },
  {
   "cell_type": "markdown",
   "metadata": {},
   "source": [
    "## Visualising combined matrices"
   ]
  },
  {
   "cell_type": "code",
   "execution_count": 56,
   "metadata": {},
   "outputs": [],
   "source": [
    "def visualize_combined_matrix(matrix, title='Combined Transformation Matrix'):\n",
    "    plt.figure(figsize=(10, 8))\n",
    "    sns.heatmap(matrix.numpy(), annot=False, fmt=\".2f\", cmap='viridis')\n",
    "    plt.title(title)\n",
    "    plt.xlabel('Output Dimension')\n",
    "    plt.ylabel('Input Dimension')\n",
    "    plt.show()"
   ]
  },
  {
   "cell_type": "code",
   "execution_count": 57,
   "metadata": {},
   "outputs": [
    {
     "data": {
      "text/plain": [
       "TensorShape([64, 64])"
      ]
     },
     "execution_count": 57,
     "metadata": {},
     "output_type": "execute_result"
    }
   ],
   "source": [
    "combined_matrix.shape"
   ]
  },
  {
   "cell_type": "code",
   "execution_count": 58,
   "metadata": {},
   "outputs": [
    {
     "data": {
      "image/png": "[encoded data removed]",
      "text/plain": [
       "<Figure size 720x576 with 2 Axes>"
      ]
     },
     "metadata": {
      "needs_background": "light"
     },
     "output_type": "display_data"
    }
   ],
   "source": [
    "visualize_combined_matrix(combined_matrix)"
   ]
  },
  {
   "cell_type": "code",
   "execution_count": 60,
   "metadata": {},
   "outputs": [
    {
     "name": "stdout",
     "output_type": "stream",
     "text": [
      "[[0.51631981 0.8763423  0.65928084 ... 0.         0.         0.        ]\n",
      " [0.         0.51631981 0.8763423  ... 0.         0.         0.        ]\n",
      " [0.         0.         0.51631981 ... 0.         0.         0.        ]\n",
      " ...\n",
      " [0.         0.         0.         ... 0.26439732 0.         0.        ]\n",
      " [0.         0.         0.         ... 0.58946812 0.26439732 0.        ]\n",
      " [0.         0.         0.         ... 0.81309837 0.58946812 0.26439732]]\n",
      "(64, 100)\n",
      "Convolution result vectorized:\n",
      "[0.5102872  0.80279255 1.1106774  1.6258247  2.242323   2.1150608\n",
      " 2.0252073  0.9758651  1.4405961  2.0802617  1.9970102  2.8373075\n",
      " 3.5274253  3.0911055  2.7050123  1.746592   1.5395291  1.9358389\n",
      " 2.1380987  3.1466517  2.9296732  3.257732   2.5272985  2.3558617\n",
      " 1.9589416  2.8518791  2.4311848  3.1052525  2.481873   2.5099216\n",
      " 2.4612572  1.8479083  1.864996   2.609022   3.2819173  3.1321433\n",
      " 3.0540285  2.547852   2.2544513  1.8241787  2.4974036  3.3528633\n",
      " 3.7248452  3.3972268  1.92961    1.5616038  1.8258953  1.5501733\n",
      " 2.2581449  3.6423051  3.3574545  3.1981165  2.7870812  2.25781\n",
      " 2.3228362  1.3149983  1.8533351  2.4795377  2.2747364  1.7699398\n",
      " 1.4216081  1.2071723  1.7399037  1.1962452 ]\n",
      "\n",
      "Matrix multiplication result:\n",
      "[0.51028723 0.80279258 1.11067735 1.6258247  2.24232296 2.11506093\n",
      " 2.02520714 0.97586514 1.44059603 2.08026178 1.99701016 2.8373074\n",
      " 3.52742522 3.09110532 2.70501241 1.74659206 1.53952903 1.93583902\n",
      " 2.13809862 3.14665199 2.92967335 3.25773188 2.52729837 2.35586168\n",
      " 1.95894153 2.85187916 2.43118488 3.10525238 2.481873   2.50992171\n",
      " 2.46125723 1.8479082  1.86499594 2.60902163 3.28191743 3.13214326\n",
      " 3.05402845 2.54785193 2.25445127 1.82417874 2.49740358 3.35286324\n",
      " 3.72484516 3.39722685 1.92961005 1.5616038  1.82589534 1.55017337\n",
      " 2.2581447  3.64230517 3.35745455 3.19811638 2.78708102 2.25781024\n",
      " 2.32283602 1.31499833 1.85333515 2.47953776 2.27473621 1.76993969\n",
      " 1.42160819 1.20717229 1.73990364 1.19624514]\n",
      "\n",
      "Are they equal?\n",
      "True\n"
     ]
    }
   ],
   "source": [
    "import numpy as np\n",
    "import tensorflow as tf\n",
    "\n",
    "def generate_toeplitz_matrix_with_same_padding(filter, image_shape):\n",
    "    filter_size = filter.shape[0]\n",
    "    image_size = image_shape[0]\n",
    "    output_size = image_size\n",
    "    padded_image_size = image_size + filter_size - 1\n",
    "    matrix_size = output_size * output_size\n",
    "    toeplitz_matrix = np.zeros((matrix_size, padded_image_size * padded_image_size))\n",
    "\n",
    "    for i in range(output_size):\n",
    "        for j in range(output_size):\n",
    "            row_start = i * output_size + j\n",
    "            for fi in range(filter_size):\n",
    "                for fj in range(filter_size):\n",
    "                    padded_image_row = i + fi\n",
    "                    padded_image_col = j + fj\n",
    "                    col = padded_image_row * padded_image_size + padded_image_col\n",
    "                    row = row_start\n",
    "                    if 0 <= padded_image_row < padded_image_size and 0 <= padded_image_col < padded_image_size:\n",
    "                        toeplitz_matrix[row, col] = filter[fi, fj]\n",
    "\n",
    "    return toeplitz_matrix\n",
    "\n",
    "# Example 8x8 image\n",
    "image = np.random.rand(8, 8).astype(np.float32)\n",
    "image_padded = np.pad(image, ((1, 1), (1, 1)), 'constant').flatten()  # Pad image and then flatten\n",
    "\n",
    "# Example 3x3 filter\n",
    "filter = np.random.rand(3, 3).astype(np.float32)\n",
    "\n",
    "# Perform convolution using TensorFlow with 'SAME' padding\n",
    "image_expanded = np.expand_dims(np.expand_dims(image, axis=0), axis=-1)  # Shape: (1, 8, 8, 1)\n",
    "filter_expanded = np.expand_dims(np.expand_dims(filter, axis=-1), axis=-1)  # Shape: (3, 3, 1, 1)\n",
    "conv_result = tf.nn.conv2d(image_expanded, filter_expanded, strides=[1, 1, 1, 1], padding='SAME')\n",
    "conv_result_vectorized = tf.reshape(conv_result, [-1]).numpy()\n",
    "\n",
    "# Generate Toeplitz matrix for the filter with 'SAME' padding\n",
    "toeplitz_matrix = generate_toeplitz_matrix_with_same_padding(filter, image.shape)\n",
    "\n",
    "# Perform matrix multiplication\n",
    "matrix_multiplication_result = toeplitz_matrix @ image_padded\n",
    "\n",
    "print(toeplitz_matrix)\n",
    "print(toeplitz_matrix.shape)\n",
    "# Print results for comparison\n",
    "print(\"Convolution result vectorized:\")\n",
    "print(conv_result_vectorized)\n",
    "print(\"\\nMatrix multiplication result:\")\n",
    "print(matrix_multiplication_result)\n",
    "\n",
    "# Check if they are the same\n",
    "print(\"\\nAre they equal?\")\n",
    "print(np.allclose(conv_result_vectorized, matrix_multiplication_result))\n"
   ]
  },
  {
   "cell_type": "code",
   "execution_count": 40,
   "metadata": {},
   "outputs": [
    {
     "data": {
      "text/plain": [
       "((64, 100), (100,), (64,), (64,))"
      ]
     },
     "execution_count": 40,
     "metadata": {},
     "output_type": "execute_result"
    }
   ],
   "source": [
    "toeplitz_matrix.shape, image_padded.shape, conv_result_vectorized.shape, matrix_multiplication_result.shape"
   ]
  },
  {
   "cell_type": "code",
   "execution_count": 41,
   "metadata": {},
   "outputs": [],
   "source": [
    "def generate_toeplitz_matrix(filter, image_shape):\n",
    "    filter_size = filter.shape[0]\n",
    "    image_size = image_shape[0]\n",
    "    output_size = image_size - filter_size + 1\n",
    "    matrix_size = output_size * output_size\n",
    "    toeplitz_matrix = np.zeros((matrix_size, image_size * image_size))\n",
    "\n",
    "    for i in range(output_size):\n",
    "        for j in range(output_size):\n",
    "            row_start = i * output_size + j\n",
    "            for fi in range(filter_size):\n",
    "                for fj in range(filter_size):\n",
    "                    image_row = i + fi\n",
    "                    image_col = j + fj\n",
    "                    col = image_row * image_size + image_col\n",
    "                    row = row_start\n",
    "                    toeplitz_matrix[row, col] = filter[fi, fj]\n",
    "\n",
    "    return toeplitz_matrix"
   ]
  },
  {
   "cell_type": "code",
   "execution_count": 44,
   "metadata": {},
   "outputs": [
    {
     "data": {
      "text/plain": [
       "<tf.Tensor: shape=(64, 1), dtype=float32, numpy=\n",
       "array([[-0.14256254],\n",
       "       [ 0.0289476 ],\n",
       "       [ 0.136321  ],\n",
       "       [-0.04261608],\n",
       "       [-0.04261609],\n",
       "       [ 0.136321  ],\n",
       "       [ 0.0289476 ],\n",
       "       [-0.14256254],\n",
       "       [ 0.0289476 ],\n",
       "       [ 0.32681054],\n",
       "       [ 0.24086691],\n",
       "       [-0.26106796],\n",
       "       [-0.26106796],\n",
       "       [ 0.2408669 ],\n",
       "       [ 0.32681054],\n",
       "       [ 0.0289476 ],\n",
       "       [ 0.13632101],\n",
       "       [ 0.24086691],\n",
       "       [ 0.04121851],\n",
       "       [-0.25719056],\n",
       "       [-0.25719056],\n",
       "       [ 0.0412185 ],\n",
       "       [ 0.2408669 ],\n",
       "       [ 0.13632098],\n",
       "       [-0.04261608],\n",
       "       [-0.26106796],\n",
       "       [-0.2571906 ],\n",
       "       [-0.23499152],\n",
       "       [-0.23499155],\n",
       "       [-0.25719056],\n",
       "       [-0.261068  ],\n",
       "       [-0.04261607],\n",
       "       [-0.04261608],\n",
       "       [-0.261068  ],\n",
       "       [-0.25719056],\n",
       "       [-0.23499152],\n",
       "       [-0.23499152],\n",
       "       [-0.25719056],\n",
       "       [-0.261068  ],\n",
       "       [-0.04261607],\n",
       "       [ 0.136321  ],\n",
       "       [ 0.2408669 ],\n",
       "       [ 0.0412185 ],\n",
       "       [-0.25719056],\n",
       "       [-0.2571906 ],\n",
       "       [ 0.0412185 ],\n",
       "       [ 0.2408669 ],\n",
       "       [ 0.13632101],\n",
       "       [ 0.0289476 ],\n",
       "       [ 0.32681054],\n",
       "       [ 0.2408669 ],\n",
       "       [-0.26106796],\n",
       "       [-0.261068  ],\n",
       "       [ 0.24086691],\n",
       "       [ 0.32681054],\n",
       "       [ 0.0289476 ],\n",
       "       [-0.14256254],\n",
       "       [ 0.0289476 ],\n",
       "       [ 0.13632101],\n",
       "       [-0.04261608],\n",
       "       [-0.04261608],\n",
       "       [ 0.136321  ],\n",
       "       [ 0.0289476 ],\n",
       "       [-0.14256254]], dtype=float32)>"
      ]
     },
     "execution_count": 44,
     "metadata": {},
     "output_type": "execute_result"
    }
   ],
   "source": [
    "combined_matrix"
   ]
  },
  {
   "cell_type": "markdown",
   "metadata": {},
   "source": [
    "## Padded CNN"
   ]
  },
  {
   "cell_type": "code",
   "execution_count": null,
   "metadata": {},
   "outputs": [],
   "source": [
    "class InvariantConvolutionLayer(tf.keras.layers.Layer):\n",
    "    def __init__(self, filters, kernel_size, n, **kwargs):\n",
    "        super(InvariantConvolutionLayer, self).__init__(**kwargs)\n",
    "        self.filters = filters\n",
    "        self.kernel_size = kernel_size\n",
    "        self.n = n\n",
    "        self.d4_matrices = convert_d4_matrices_to_tf(generate_d4_matrices(n))\n",
    "\n",
    "    def build(self, input_shape):\n",
    "        self.kernel = self.add_weight(shape=(self.kernel_size, self.kernel_size, input_shape[-1], self.filters),\n",
    "                                      initializer='glorot_uniform',\n",
    "                                      trainable=True)\n",
    "\n",
    "    def call(self, inputs):\n",
    "        conv_output = tf.nn.conv2d(inputs, self.kernel, strides=[1, 1, 1, 1], padding='SAME')\n",
    "\n",
    "        transformed_images = [\n",
    "            tf.reshape(tf.linalg.matvec(matrix, tf.reshape(conv_output, [tf.shape(conv_output)[0], -1])),\n",
    "                       [tf.shape(conv_output)[0], self.n, self.n, self.filters])\n",
    "            for matrix in self.d4_matrices\n",
    "        ]\n",
    "\n",
    "        stacked_images = tf.stack(transformed_images, axis=0)\n",
    "        mean_image = tf.reduce_mean(stacked_images, axis=0)\n",
    "\n",
    "        return mean_image\n",
    "\n",
    "    def get_combined_transformation_matrix(self):\n",
    "        kernel_flat = tf.reshape(self.kernel, [self.kernel_size * self.kernel_size, self.filters])\n",
    "        transformed_kernels = [\n",
    "            tf.matmul(matrix, kernel_flat) \n",
    "            for matrix in self.d4_matrices\n",
    "        ]\n",
    "        combined_matrix = tf.reduce_mean(tf.stack(transformed_kernels), axis=0)\n",
    "        return combined_matrix"
   ]
  },
  {
   "cell_type": "code",
   "execution_count": 63,
   "metadata": {},
   "outputs": [
    {
     "name": "stdout",
     "output_type": "stream",
     "text": [
      "Epoch 1/10\n"
     ]
    },
    {
     "ename": "ValueError",
     "evalue": "in user code:\n\n    File \"/Users/iyerkartikshridhar/opt/anaconda3/lib/python3.8/site-packages/keras/engine/training.py\", line 1160, in train_function  *\n        return step_function(self, iterator)\n    File \"/Users/iyerkartikshridhar/opt/anaconda3/lib/python3.8/site-packages/keras/engine/training.py\", line 1146, in step_function  **\n        outputs = model.distribute_strategy.run(run_step, args=(data,))\n    File \"/Users/iyerkartikshridhar/opt/anaconda3/lib/python3.8/site-packages/keras/engine/training.py\", line 1135, in run_step  **\n        outputs = model.train_step(data)\n    File \"/Users/iyerkartikshridhar/opt/anaconda3/lib/python3.8/site-packages/keras/engine/training.py\", line 994, in train_step\n        loss = self.compute_loss(x, y, y_pred, sample_weight)\n    File \"/Users/iyerkartikshridhar/opt/anaconda3/lib/python3.8/site-packages/keras/engine/training.py\", line 1052, in compute_loss\n        return self.compiled_loss(\n    File \"/Users/iyerkartikshridhar/opt/anaconda3/lib/python3.8/site-packages/keras/engine/compile_utils.py\", line 265, in __call__\n        loss_value = loss_obj(y_t, y_p, sample_weight=sw)\n    File \"/Users/iyerkartikshridhar/opt/anaconda3/lib/python3.8/site-packages/keras/losses.py\", line 152, in __call__\n        losses = call_fn(y_true, y_pred)\n    File \"/Users/iyerkartikshridhar/opt/anaconda3/lib/python3.8/site-packages/keras/losses.py\", line 272, in call  **\n        return ag_fn(y_true, y_pred, **self._fn_kwargs)\n    File \"/Users/iyerkartikshridhar/opt/anaconda3/lib/python3.8/site-packages/keras/losses.py\", line 1990, in categorical_crossentropy\n        return backend.categorical_crossentropy(\n    File \"/Users/iyerkartikshridhar/opt/anaconda3/lib/python3.8/site-packages/keras/backend.py\", line 5529, in categorical_crossentropy\n        target.shape.assert_is_compatible_with(output.shape)\n\n    ValueError: Shapes (None, 5) and (None, 4, 4, 5) are incompatible\n",
     "output_type": "error",
     "traceback": [
      "\u001b[0;31m---------------------------------------------------------------------------\u001b[0m",
      "\u001b[0;31mValueError\u001b[0m                                Traceback (most recent call last)",
      "\u001b[0;32m/var/folders/60/3d7rr4bs15gb8hrwhcmkd7_h0000gn/T/ipykernel_99480/2261539187.py\u001b[0m in \u001b[0;36m<module>\u001b[0;34m\u001b[0m\n\u001b[1;32m     17\u001b[0m \u001b[0mmodel\u001b[0m\u001b[0;34m.\u001b[0m\u001b[0mcompile\u001b[0m\u001b[0;34m(\u001b[0m\u001b[0moptimizer\u001b[0m\u001b[0;34m=\u001b[0m\u001b[0;34m'adam'\u001b[0m\u001b[0;34m,\u001b[0m \u001b[0mloss\u001b[0m\u001b[0;34m=\u001b[0m\u001b[0;34m'categorical_crossentropy'\u001b[0m\u001b[0;34m,\u001b[0m \u001b[0mmetrics\u001b[0m\u001b[0;34m=\u001b[0m\u001b[0;34m[\u001b[0m\u001b[0;34m'accuracy'\u001b[0m\u001b[0;34m]\u001b[0m\u001b[0;34m)\u001b[0m\u001b[0;34m\u001b[0m\u001b[0;34m\u001b[0m\u001b[0m\n\u001b[1;32m     18\u001b[0m \u001b[0;34m\u001b[0m\u001b[0m\n\u001b[0;32m---> 19\u001b[0;31m \u001b[0mmodel\u001b[0m\u001b[0;34m.\u001b[0m\u001b[0mfit\u001b[0m\u001b[0;34m(\u001b[0m\u001b[0mX_train\u001b[0m\u001b[0;34m,\u001b[0m \u001b[0my_train\u001b[0m\u001b[0;34m,\u001b[0m \u001b[0mepochs\u001b[0m\u001b[0;34m=\u001b[0m\u001b[0;36m10\u001b[0m\u001b[0;34m,\u001b[0m \u001b[0mbatch_size\u001b[0m\u001b[0;34m=\u001b[0m\u001b[0;36m32\u001b[0m\u001b[0;34m,\u001b[0m \u001b[0mvalidation_data\u001b[0m\u001b[0;34m=\u001b[0m\u001b[0;34m(\u001b[0m\u001b[0mX_test\u001b[0m\u001b[0;34m,\u001b[0m \u001b[0my_test\u001b[0m\u001b[0;34m)\u001b[0m\u001b[0;34m)\u001b[0m\u001b[0;34m\u001b[0m\u001b[0;34m\u001b[0m\u001b[0m\n\u001b[0m\u001b[1;32m     20\u001b[0m \u001b[0;34m\u001b[0m\u001b[0m\n\u001b[1;32m     21\u001b[0m \u001b[0mtest_loss\u001b[0m\u001b[0;34m,\u001b[0m \u001b[0mtest_acc\u001b[0m \u001b[0;34m=\u001b[0m \u001b[0mmodel\u001b[0m\u001b[0;34m.\u001b[0m\u001b[0mevaluate\u001b[0m\u001b[0;34m(\u001b[0m\u001b[0mX_test\u001b[0m\u001b[0;34m,\u001b[0m \u001b[0my_test\u001b[0m\u001b[0;34m)\u001b[0m\u001b[0;34m\u001b[0m\u001b[0;34m\u001b[0m\u001b[0m\n",
      "\u001b[0;32m~/opt/anaconda3/lib/python3.8/site-packages/keras/utils/traceback_utils.py\u001b[0m in \u001b[0;36merror_handler\u001b[0;34m(*args, **kwargs)\u001b[0m\n\u001b[1;32m     68\u001b[0m             \u001b[0;31m# To get the full stack trace, call:\u001b[0m\u001b[0;34m\u001b[0m\u001b[0;34m\u001b[0m\u001b[0;34m\u001b[0m\u001b[0m\n\u001b[1;32m     69\u001b[0m             \u001b[0;31m# `tf.debugging.disable_traceback_filtering()`\u001b[0m\u001b[0;34m\u001b[0m\u001b[0;34m\u001b[0m\u001b[0;34m\u001b[0m\u001b[0m\n\u001b[0;32m---> 70\u001b[0;31m             \u001b[0;32mraise\u001b[0m \u001b[0me\u001b[0m\u001b[0;34m.\u001b[0m\u001b[0mwith_traceback\u001b[0m\u001b[0;34m(\u001b[0m\u001b[0mfiltered_tb\u001b[0m\u001b[0;34m)\u001b[0m \u001b[0;32mfrom\u001b[0m \u001b[0;32mNone\u001b[0m\u001b[0;34m\u001b[0m\u001b[0;34m\u001b[0m\u001b[0m\n\u001b[0m\u001b[1;32m     71\u001b[0m         \u001b[0;32mfinally\u001b[0m\u001b[0;34m:\u001b[0m\u001b[0;34m\u001b[0m\u001b[0;34m\u001b[0m\u001b[0m\n\u001b[1;32m     72\u001b[0m             \u001b[0;32mdel\u001b[0m \u001b[0mfiltered_tb\u001b[0m\u001b[0;34m\u001b[0m\u001b[0;34m\u001b[0m\u001b[0m\n",
      "\u001b[0;32m~/opt/anaconda3/lib/python3.8/site-packages/keras/engine/training.py\u001b[0m in \u001b[0;36mtf__train_function\u001b[0;34m(iterator)\u001b[0m\n\u001b[1;32m     13\u001b[0m                 \u001b[0;32mtry\u001b[0m\u001b[0;34m:\u001b[0m\u001b[0;34m\u001b[0m\u001b[0;34m\u001b[0m\u001b[0m\n\u001b[1;32m     14\u001b[0m                     \u001b[0mdo_return\u001b[0m \u001b[0;34m=\u001b[0m \u001b[0;32mTrue\u001b[0m\u001b[0;34m\u001b[0m\u001b[0;34m\u001b[0m\u001b[0m\n\u001b[0;32m---> 15\u001b[0;31m                     \u001b[0mretval_\u001b[0m \u001b[0;34m=\u001b[0m \u001b[0mag__\u001b[0m\u001b[0;34m.\u001b[0m\u001b[0mconverted_call\u001b[0m\u001b[0;34m(\u001b[0m\u001b[0mag__\u001b[0m\u001b[0;34m.\u001b[0m\u001b[0mld\u001b[0m\u001b[0;34m(\u001b[0m\u001b[0mstep_function\u001b[0m\u001b[0;34m)\u001b[0m\u001b[0;34m,\u001b[0m \u001b[0;34m(\u001b[0m\u001b[0mag__\u001b[0m\u001b[0;34m.\u001b[0m\u001b[0mld\u001b[0m\u001b[0;34m(\u001b[0m\u001b[0mself\u001b[0m\u001b[0;34m)\u001b[0m\u001b[0;34m,\u001b[0m \u001b[0mag__\u001b[0m\u001b[0;34m.\u001b[0m\u001b[0mld\u001b[0m\u001b[0;34m(\u001b[0m\u001b[0miterator\u001b[0m\u001b[0;34m)\u001b[0m\u001b[0;34m)\u001b[0m\u001b[0;34m,\u001b[0m \u001b[0;32mNone\u001b[0m\u001b[0;34m,\u001b[0m \u001b[0mfscope\u001b[0m\u001b[0;34m)\u001b[0m\u001b[0;34m\u001b[0m\u001b[0;34m\u001b[0m\u001b[0m\n\u001b[0m\u001b[1;32m     16\u001b[0m                 \u001b[0;32mexcept\u001b[0m\u001b[0;34m:\u001b[0m\u001b[0;34m\u001b[0m\u001b[0;34m\u001b[0m\u001b[0m\n\u001b[1;32m     17\u001b[0m                     \u001b[0mdo_return\u001b[0m \u001b[0;34m=\u001b[0m \u001b[0;32mFalse\u001b[0m\u001b[0;34m\u001b[0m\u001b[0;34m\u001b[0m\u001b[0m\n",
      "\u001b[0;31mValueError\u001b[0m: in user code:\n\n    File \"/Users/iyerkartikshridhar/opt/anaconda3/lib/python3.8/site-packages/keras/engine/training.py\", line 1160, in train_function  *\n        return step_function(self, iterator)\n    File \"/Users/iyerkartikshridhar/opt/anaconda3/lib/python3.8/site-packages/keras/engine/training.py\", line 1146, in step_function  **\n        outputs = model.distribute_strategy.run(run_step, args=(data,))\n    File \"/Users/iyerkartikshridhar/opt/anaconda3/lib/python3.8/site-packages/keras/engine/training.py\", line 1135, in run_step  **\n        outputs = model.train_step(data)\n    File \"/Users/iyerkartikshridhar/opt/anaconda3/lib/python3.8/site-packages/keras/engine/training.py\", line 994, in train_step\n        loss = self.compute_loss(x, y, y_pred, sample_weight)\n    File \"/Users/iyerkartikshridhar/opt/anaconda3/lib/python3.8/site-packages/keras/engine/training.py\", line 1052, in compute_loss\n        return self.compiled_loss(\n    File \"/Users/iyerkartikshridhar/opt/anaconda3/lib/python3.8/site-packages/keras/engine/compile_utils.py\", line 265, in __call__\n        loss_value = loss_obj(y_t, y_p, sample_weight=sw)\n    File \"/Users/iyerkartikshridhar/opt/anaconda3/lib/python3.8/site-packages/keras/losses.py\", line 152, in __call__\n        losses = call_fn(y_true, y_pred)\n    File \"/Users/iyerkartikshridhar/opt/anaconda3/lib/python3.8/site-packages/keras/losses.py\", line 272, in call  **\n        return ag_fn(y_true, y_pred, **self._fn_kwargs)\n    File \"/Users/iyerkartikshridhar/opt/anaconda3/lib/python3.8/site-packages/keras/losses.py\", line 1990, in categorical_crossentropy\n        return backend.categorical_crossentropy(\n    File \"/Users/iyerkartikshridhar/opt/anaconda3/lib/python3.8/site-packages/keras/backend.py\", line 5529, in categorical_crossentropy\n        target.shape.assert_is_compatible_with(output.shape)\n\n    ValueError: Shapes (None, 5) and (None, 4, 4, 5) are incompatible\n"
     ]
    }
   ],
   "source": [
    "# Define the model using Sequential\n",
    "def create_model(input_shape, n, num_classes):\n",
    "    model = tf.keras.models.Sequential([\n",
    "        InvariantConvolutionLayer(filters=1, kernel_size=8, n=n, input_shape=input_shape),\n",
    "        tf.keras.layers.MaxPool2D(pool_size=(2, 2)),\n",
    "        tf.keras.layers.Flatten(),\n",
    "        tf.keras.layers.Dense(num_classes, activation='softmax')\n",
    "    ])\n",
    "    return model\n",
    "\n",
    "input_shape = (8, 8, 1)  # 8x8 image with 1 channel\n",
    "num_classes = 5  # Number of classes (digits 0-9)\n",
    "n = 8  # Dimension of the input image\n",
    "\n",
    "X_train_expanded, X_test_expanded = np.expand_dims(X_train, axis=-1), np.expand_dims(X_test, axis=-1)\n",
    "\n",
    "model = create_model(input_shape, n, num_classes)\n",
    "model.compile(optimizer='adam', loss='categorical_crossentropy', metrics=['accuracy'])\n",
    "\n",
    "model.fit(X_train, y_train, epochs=10, batch_size=32, validation_data=(X_test, y_test))\n",
    "\n",
    "test_loss, test_acc = model.evaluate(X_test, y_test)\n",
    "print(f'Test accuracy: {test_acc:.4f}')\n"
   ]
  }
 ],
 "metadata": {
  "kernelspec": {
   "display_name": "base",
   "language": "python",
   "name": "python3"
  },
  "language_info": {
   "codemirror_mode": {
    "name": "ipython",
    "version": 3
   },
   "file_extension": ".py",
   "mimetype": "text/x-python",
   "name": "python",
   "nbconvert_exporter": "python",
   "pygments_lexer": "ipython3",
   "version": "3.8.3"
  }
 },
 "nbformat": 4,
 "nbformat_minor": 2
}
