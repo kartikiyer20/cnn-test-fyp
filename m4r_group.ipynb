{
  "cells": [
    {
      "cell_type": "markdown",
      "metadata": {
        "id": "i9XLgI2uu1jo"
      },
      "source": [
        "# Installs"
      ]
    },
    {
      "cell_type": "code",
      "execution_count": 21,
      "metadata": {
        "id": "sufJ8sqH-DGi"
      },
      "outputs": [],
      "source": [
        "# !pip install --upgrade pip # To support manylinux2010 wheels.\n",
        "# !pip install --upgrade flax"
      ]
    },
    {
      "cell_type": "code",
      "execution_count": 12,
      "metadata": {
        "colab": {
          "base_uri": "https://localhost:8080/"
        },
        "collapsed": true,
        "id": "VTfOaUGEMnE3",
        "outputId": "a7662aaf-3ad7-4788-e21d-b18292fe48fe"
      },
      "outputs": [
        {
          "name": "stdout",
          "output_type": "stream",
          "text": [
            "Requirement already satisfied: wandb in /Users/iyerkartikshridhar/opt/anaconda3/lib/python3.8/site-packages (0.17.0)\n",
            "Requirement already satisfied: click!=8.0.0,>=7.1 in /Users/iyerkartikshridhar/opt/anaconda3/lib/python3.8/site-packages (from wandb) (8.0.4)\n",
            "Requirement already satisfied: docker-pycreds>=0.4.0 in /Users/iyerkartikshridhar/opt/anaconda3/lib/python3.8/site-packages (from wandb) (0.4.0)\n",
            "Requirement already satisfied: gitpython!=3.1.29,>=1.0.0 in /Users/iyerkartikshridhar/opt/anaconda3/lib/python3.8/site-packages (from wandb) (3.1.43)\n",
            "Requirement already satisfied: platformdirs in /Users/iyerkartikshridhar/opt/anaconda3/lib/python3.8/site-packages (from wandb) (2.5.2)\n",
            "Requirement already satisfied: protobuf!=4.21.0,<5,>=3.19.0 in /Users/iyerkartikshridhar/opt/anaconda3/lib/python3.8/site-packages (from wandb) (3.19.6)\n",
            "Requirement already satisfied: psutil>=5.0.0 in /Users/iyerkartikshridhar/opt/anaconda3/lib/python3.8/site-packages (from wandb) (5.8.0)\n",
            "Requirement already satisfied: pyyaml in /Users/iyerkartikshridhar/opt/anaconda3/lib/python3.8/site-packages (from wandb) (6.0)\n",
            "Requirement already satisfied: requests<3,>=2.0.0 in /Users/iyerkartikshridhar/opt/anaconda3/lib/python3.8/site-packages (from wandb) (2.27.1)\n",
            "Requirement already satisfied: sentry-sdk>=1.0.0 in /Users/iyerkartikshridhar/opt/anaconda3/lib/python3.8/site-packages (from wandb) (2.2.0)\n",
            "Requirement already satisfied: setproctitle in /Users/iyerkartikshridhar/opt/anaconda3/lib/python3.8/site-packages (from wandb) (1.3.3)\n",
            "Requirement already satisfied: setuptools in /Users/iyerkartikshridhar/opt/anaconda3/lib/python3.8/site-packages (from wandb) (58.2.0)\n",
            "Requirement already satisfied: typing-extensions in /Users/iyerkartikshridhar/opt/anaconda3/lib/python3.8/site-packages (from wandb) (4.8.0)\n",
            "Requirement already satisfied: six>=1.4.0 in /Users/iyerkartikshridhar/opt/anaconda3/lib/python3.8/site-packages (from docker-pycreds>=0.4.0->wandb) (1.16.0)\n",
            "Requirement already satisfied: gitdb<5,>=4.0.1 in /Users/iyerkartikshridhar/opt/anaconda3/lib/python3.8/site-packages (from gitpython!=3.1.29,>=1.0.0->wandb) (4.0.11)\n",
            "Requirement already satisfied: urllib3<1.27,>=1.21.1 in /Users/iyerkartikshridhar/opt/anaconda3/lib/python3.8/site-packages (from requests<3,>=2.0.0->wandb) (1.26.18)\n",
            "Requirement already satisfied: certifi>=2017.4.17 in /Users/iyerkartikshridhar/opt/anaconda3/lib/python3.8/site-packages (from requests<3,>=2.0.0->wandb) (2022.12.7)\n",
            "Requirement already satisfied: charset-normalizer~=2.0.0 in /Users/iyerkartikshridhar/opt/anaconda3/lib/python3.8/site-packages (from requests<3,>=2.0.0->wandb) (2.0.4)\n",
            "Requirement already satisfied: idna<4,>=2.5 in /Users/iyerkartikshridhar/opt/anaconda3/lib/python3.8/site-packages (from requests<3,>=2.0.0->wandb) (3.3)\n",
            "Requirement already satisfied: smmap<6,>=3.0.1 in /Users/iyerkartikshridhar/opt/anaconda3/lib/python3.8/site-packages (from gitdb<5,>=4.0.1->gitpython!=3.1.29,>=1.0.0->wandb) (5.0.1)\n",
            "\n",
            "\u001b[1m[\u001b[0m\u001b[34;49mnotice\u001b[0m\u001b[1;39;49m]\u001b[0m\u001b[39;49m A new release of pip is available: \u001b[0m\u001b[31;49m23.3.1\u001b[0m\u001b[39;49m -> \u001b[0m\u001b[32;49m24.0\u001b[0m\n",
            "\u001b[1m[\u001b[0m\u001b[34;49mnotice\u001b[0m\u001b[1;39;49m]\u001b[0m\u001b[39;49m To update, run: \u001b[0m\u001b[32;49mpip install --upgrade pip\u001b[0m\n"
          ]
        }
      ],
      "source": [
        "!pip install wandb"
      ]
    },
    {
      "cell_type": "code",
      "execution_count": 13,
      "metadata": {
        "id": "lFitdRpNsOlu"
      },
      "outputs": [],
      "source": [
        "# !pip install --upgrade \"jax[cuda]\" -f https://storage.googleapis.com/jax-releases/jax_cuda_releases.html\n",
        "# !pip install jax[cuda12_pip]==0.4.21 -f https://storage.googleapis.com/jax-releases/jax_cuda_releases.html"
      ]
    },
    {
      "cell_type": "markdown",
      "metadata": {
        "id": "CeViOCdB-FJ1"
      },
      "source": [
        "# Imports"
      ]
    },
    {
      "cell_type": "code",
      "execution_count": 14,
      "metadata": {
        "id": "pASf-gulbQ2F"
      },
      "outputs": [],
      "source": [
        "def inverse_grid_number(n, number):\n",
        "    if 1 <= number <= n**2:\n",
        "        row_index = (number - 1) // n + 1\n",
        "        column_index = (number - 1) % n + 1\n",
        "        return row_index, column_index\n",
        "    else:\n",
        "        raise ValueError(\"Number must be between 1 and n^2 inclusive.\")\n",
        "\n",
        "def grid_number(n, a, b):\n",
        "    if 1 <= a <= n and 1 <= b <= n:\n",
        "        return (a - 1) * n + b\n",
        "    else:\n",
        "        raise ValueError(\"Row and column indices must be between 1 and n inclusive.\")\n",
        "\n",
        "def reflection_grid(n, coordinates):\n",
        "    a, b = coordinates\n",
        "    reflected_b = n - b + 1\n",
        "    return a, reflected_b\n",
        "\n",
        "def rotation_grid(n, coordinates):\n",
        "    a, b = coordinates\n",
        "    rotated_a = n - b + 1\n",
        "    rotated_b = a\n",
        "    return rotated_a, rotated_b\n",
        "\n",
        "def rotate(n, number):\n",
        "    (a,b) = inverse_grid_number(n, number)\n",
        "    (new_a, new_b) = rotation_grid(n, (a,b))\n",
        "    return grid_number(n, new_a, new_b)\n",
        "\n",
        "def reflect(n, number):\n",
        "    (a,b) = inverse_grid_number(n, number)\n",
        "    (new_a, new_b) = reflection_grid(n, (a,b))\n",
        "    return grid_number(n, new_a, new_b)\n",
        "\n",
        "def generate_rotation_matrix(n):\n",
        "    # Define the size of the matrix\n",
        "    matrix_size = n ** 2\n",
        "\n",
        "    # Initialize a matrix with zeros\n",
        "    rotation_matrix = sp.zeros(matrix_size, matrix_size)\n",
        "\n",
        "    # Set 1 at the specified positions for each column\n",
        "    for m in range(1, matrix_size + 1):\n",
        "        rotated_position = rotate(n, m)\n",
        "        rotation_matrix[rotated_position - 1, m - 1] = 1  # Adjust for 0-based indexing\n",
        "\n",
        "    return rotation_matrix\n",
        "\n",
        "def generate_reflection_matrix(n):\n",
        "    # Define the size of the matrix\n",
        "    matrix_size = n ** 2\n",
        "\n",
        "    # Initialize a matrix with zeros\n",
        "    reflection_matrix = sp.zeros(matrix_size, matrix_size)\n",
        "\n",
        "    # Set 1 at the specified positions for each column\n",
        "    for m in range(1, matrix_size + 1):\n",
        "        reflected_position = reflect(n, m)\n",
        "        reflection_matrix[reflected_position - 1, m - 1] = 1  # Adjust for 0-based indexing\n",
        "\n",
        "    return reflection_matrix\n",
        "\n",
        "def generate_d4_matrices_sp(n):\n",
        "    '''Outputs n^2 by n^2 matrices'''\n",
        "    # Get rotation and reflection matrices\n",
        "    R = generate_rotation_matrix(n)\n",
        "    S = generate_reflection_matrix(n)\n",
        "\n",
        "    # Calculate R^2, R^3, SR, SR^2, SR^3\n",
        "    R2 = R@R\n",
        "    R3 = R2@R\n",
        "    SR = S@R\n",
        "    SR2 = S@R2\n",
        "    SR3 = S@R3\n",
        "\n",
        "    # Generate D4 matrices\n",
        "    D4_matrices = [sp.eye(n**2), R, R2, R3, S, SR, SR2, SR3]\n",
        "\n",
        "    return D4_matrices\n",
        "\n"
      ]
    },
    {
      "cell_type": "code",
      "execution_count": 15,
      "metadata": {
        "id": "WFFlNAAPyGeY"
      },
      "outputs": [],
      "source": [
        "from flax import linen as nn\n"
      ]
    },
    {
      "cell_type": "code",
      "execution_count": 16,
      "metadata": {
        "colab": {
          "base_uri": "https://localhost:8080/"
        },
        "id": "w8uZh6JI-G6O",
        "outputId": "e7ea9847-06cb-41be-86e6-325273c8558e"
      },
      "outputs": [
        {
          "name": "stdout",
          "output_type": "stream",
          "text": [
            "The jax default backend is: cpu\n"
          ]
        }
      ],
      "source": [
        "## Standard libraries\n",
        "import os\n",
        "import numpy as np\n",
        "from typing import Sequence\n",
        "import shutil\n",
        "from functools import partial\n",
        "import math\n",
        "import scipy as scipy\n",
        "import itertools\n",
        "\n",
        "### JAX\n",
        "import jax\n",
        "import jax.numpy as jnp\n",
        "\n",
        "### Flax\n",
        "from flax import linen as nn\n",
        "from flax.training import train_state\n",
        "from flax.core.frozen_dict import freeze, unfreeze\n",
        "\n",
        "### Optax\n",
        "import optax\n",
        "\n",
        "### Logging and plotting\n",
        "import wandb\n",
        "import matplotlib.pyplot as plt\n",
        "%matplotlib inline\n",
        "import PIL\n",
        "from IPython.display import set_matplotlib_formats\n",
        "from PIL import Image\n",
        "\n",
        "print(f\"The jax default backend is: {jax.default_backend()}\")\n",
        "\n",
        "## PyTorch libraries\n",
        "import torch\n",
        "import torch.utils.data as data\n",
        "import torchvision\n",
        "import torchvision.transforms as transforms\n",
        "import torch.optim as optim\n",
        "# import torch.nn as nn\n",
        "\n",
        "## Torchvision\n",
        "import torchvision\n",
        "from torchvision.datasets import MNIST\n",
        "from torchvision import transforms\n",
        "\n",
        "import wandb"
      ]
    },
    {
      "cell_type": "markdown",
      "metadata": {
        "id": "zbFQnzEFmaSa"
      },
      "source": [
        "# MNIST + Bx"
      ]
    },
    {
      "cell_type": "code",
      "execution_count": 17,
      "metadata": {
        "id": "v2eBHGI3NjJA"
      },
      "outputs": [],
      "source": [
        "from sympy.parsing.sympy_parser import parse_expr\n",
        "\n",
        "with open('8x8COB.txt', 'r') as f:\n",
        "    Q = [next(f) for _ in range(129)] # f.read()\n",
        "Q = [parse_expr(s.strip('\\n')) for s in Q if s != '\\n']\n",
        "Q = Q[1:] # Remove constant\n",
        "Q1, Q2, Q3, Q4, Q56, Q78 = Q[:10], Q[10:16], Q[16:22], Q[22:32], Q[32:48], Q[48:]\n",
        "Q1, Q2, Q3, Q4, Q56, Q78 = [elem[0,0] for elem in Q1], [elem[1,0] for elem in Q2], [elem[2,0] for elem in Q3], [elem[3,0] for elem in Q4], [elem[(4,5),0].tolist() for elem in Q56], [elem[(6,7),0].tolist() for elem in Q78]"
      ]
    },
    {
      "cell_type": "code",
      "execution_count": 18,
      "metadata": {
        "id": "f6Qw_IH_eBY1"
      },
      "outputs": [],
      "source": [
        "import re\n",
        "Q1_Str = [[elem.replace('x','') for elem in l] for l in [str(q).split(' + ') for q in Q1]]\n",
        "Q2_str = [str(q).replace(' - ',' + -') for q in Q2]\n",
        "Q2_Str = [[elem.replace('x','') for elem in l] for l in [str(q).split(' + ') for q in Q2_str]]\n",
        "Q3_str = [str(q).replace(' - ',' + -') for q in Q3]\n",
        "Q3_Str = [[elem.replace('x','') for elem in l] for l in [str(q).split(' + ') for q in Q3_str]]\n",
        "Q4_str = [str(q).replace(' - ',' + -') for q in Q4]\n",
        "Q4_Str = [[elem.replace('x','') for elem in l] for l in [str(q).split(' + ') for q in Q4_str]]\n",
        "Q56_str = [(str(q[0]).replace(' - ',' + -'),str(q[1]).replace(' - ',' + -')) for q in Q56]\n",
        "Q56_Str = [[[elem.replace('x','').replace('[','').replace(']','') for elem in l0],[elem.replace('x','').replace('[','').replace(']','') for elem in l1]] for l0,l1 in [(q[0].split(' + '),q[1].split(' + ')) for q in Q56_str]]"
      ]
    },
    {
      "cell_type": "code",
      "execution_count": 19,
      "metadata": {
        "id": "9l7p0GWwecn6"
      },
      "outputs": [],
      "source": [
        "from math import copysign\n",
        "\n",
        "X_matrix = jnp.zeros((64,64))\n",
        "\n",
        "Q1_to_4 = Q1_Str + Q2_Str + Q3_Str + Q4_Str\n",
        "\n",
        "for i in range(32):\n",
        "  for elem in Q1_to_4[i]:\n",
        "    X_matrix = X_matrix.at[i,abs(int(elem))-1].set(np.sign(int(elem))*1)\n",
        "\n",
        "for i in range(16):\n",
        "  for elem in Q56_Str[i][0]:\n",
        "    X_matrix = X_matrix.at[i+32,abs(int(elem))-1].set(np.sign(int(elem))*1)\n",
        "  for elem in Q56_Str[i][1]:\n",
        "    X_matrix = X_matrix.at[i+48,abs(int(elem))-1].set(np.sign(int(elem))*1)"
      ]
    },
    {
      "cell_type": "code",
      "execution_count": 20,
      "metadata": {
        "colab": {
          "base_uri": "https://localhost:8080/",
          "height": 453
        },
        "id": "4adZMPrOjCr7",
        "outputId": "2b1c734c-49fc-4b44-90ea-20419cbf245f"
      },
      "outputs": [
        {
          "data": {
            "text/plain": [
              "<matplotlib.image.AxesImage at 0x7fd1829ed610>"
            ]
          },
          "execution_count": 20,
          "metadata": {},
          "output_type": "execute_result"
        },
        {
          "data": {
            "image/png": "[encoded data removed]",
            "text/plain": [
              "<Figure size 432x288 with 1 Axes>"
            ]
          },
          "metadata": {
            "needs_background": "light"
          },
          "output_type": "display_data"
        }
      ],
      "source": [
        "B = X_matrix.copy()\n",
        "plt.imshow(B)"
      ]
    },
    {
      "cell_type": "markdown",
      "metadata": {},
      "source": [
        "# Rotate 8x8 as 64 vec image"
      ]
    },
    {
      "cell_type": "code",
      "execution_count": 17,
      "metadata": {
        "id": "K7GVLfNel1Dt"
      },
      "outputs": [],
      "source": [
        "def inverse_grid_number(n, number):\n",
        "    if 1 <= number <= n**2:\n",
        "        row_index = (number - 1) // n + 1\n",
        "        column_index = (number - 1) % n + 1\n",
        "        return row_index, column_index\n",
        "    else:\n",
        "        raise ValueError(\"Number must be between 1 and n^2 inclusive.\")\n",
        "\n",
        "def grid_number(n, a, b):\n",
        "    if 1 <= a <= n and 1 <= b <= n:\n",
        "        return (a - 1) * n + b\n",
        "    else:\n",
        "        raise ValueError(\"Row and column indices must be between 1 and n inclusive.\")\n",
        "\n",
        "def reflection_grid(n, coordinates):\n",
        "    a, b = coordinates\n",
        "    reflected_b = n - b + 1\n",
        "    return a, reflected_b\n",
        "\n",
        "def rotation_grid(n, coordinates):\n",
        "    a, b = coordinates\n",
        "    rotated_a = n - b + 1\n",
        "    rotated_b = a\n",
        "    return rotated_a, rotated_b\n",
        "\n",
        "def rotate(n, number):\n",
        "    (a,b) = inverse_grid_number(n, number)\n",
        "    (new_a, new_b) = rotation_grid(n, (a,b))\n",
        "    return grid_number(n, new_a, new_b)\n",
        "\n",
        "def reflect(n, number):\n",
        "    (a,b) = inverse_grid_number(n, number)\n",
        "    (new_a, new_b) = reflection_grid(n, (a,b))\n",
        "    return grid_number(n, new_a, new_b)\n",
        "\n",
        "def generate_rotation_matrix(n):\n",
        "    # Define the size of the matrix\n",
        "    matrix_size = n ** 2\n",
        "\n",
        "    # Initialize a matrix with zeros\n",
        "    rotation_matrix = jnp.zeros((matrix_size, matrix_size), dtype=int)\n",
        "\n",
        "    # Set 1 at the specified positions for each column\n",
        "    for m in range(1, matrix_size + 1):\n",
        "        rotated_position = rotate(n, m)\n",
        "        rotation_matrix = rotation_matrix.at[rotated_position - 1, m - 1].set(1)  # Adjust for 0-based indexing\n",
        "\n",
        "    return rotation_matrix\n",
        "\n",
        "def generate_reflection_matrix(n):\n",
        "    # Define the size of the matrix\n",
        "    matrix_size = n ** 2\n",
        "\n",
        "    # Initialize a matrix with zeros\n",
        "    reflection_matrix = jnp.zeros((matrix_size, matrix_size), dtype=int)\n",
        "\n",
        "    # Set 1 at the specified positions for each column\n",
        "    for m in range(1, matrix_size + 1):\n",
        "        reflected_position = reflect(n, m)\n",
        "        reflection_matrix = reflection_matrix.at[reflected_position - 1, m - 1].set(1)  # Adjust for 0-based indexing\n",
        "\n",
        "    return reflection_matrix\n",
        "\n",
        "def generate_d4_matrices(n):\n",
        "    '''Outputs n^2 by n^2 matrices'''\n",
        "    # Get rotation and reflection matrices\n",
        "    R = generate_rotation_matrix(n)\n",
        "    S = generate_reflection_matrix(n)\n",
        "\n",
        "    # Calculate R^2, R^3, SR, SR^2, SR^3\n",
        "    R2 = jnp.dot(R, R)\n",
        "    R3 = jnp.dot(R2, R)\n",
        "    SR = jnp.dot(S, R)\n",
        "    SR2 = jnp.dot(S, R2)\n",
        "    SR3 = jnp.dot(S, R3)\n",
        "\n",
        "    # Generate D4 matrices\n",
        "    D4_matrices = [jnp.eye(n**2), R, R2, R3, S, SR, SR2, SR3]\n",
        "\n",
        "    return D4_matrices\n",
        "\n"
      ]
    },
    {
      "cell_type": "code",
      "execution_count": 18,
      "metadata": {
        "colab": {
          "base_uri": "https://localhost:8080/",
          "height": 216
        },
        "id": "4N3IB3SQhmIq",
        "outputId": "4a55705d-dffa-4777-92b9-4f8b28ad3afc"
      },
      "outputs": [],
      "source": [
        "class RotMNISTDataset(torch.utils.data.Dataset):\n",
        "\n",
        "    def __init__(self, torch_images, torch_labels, classes):\n",
        "\n",
        "        torch_ids = torch.argwhere(torch.tensor([label in classes for label in torch_labels]))\n",
        "        self.original_points = len(torch_ids)\n",
        "        self.points = self.original_points*4\n",
        "\n",
        "        self.labels = torch.concat([torch_labels[torch_ids] for i in range(4)], axis=-1).reshape((self.points,))\n",
        "\n",
        "        self.ids = torch.tensor(np.array([i for i in range(self.points)]))\n",
        "\n",
        "        images = torch_images[torch_ids].reshape((self.original_points,64))\n",
        "        args = jax.random.randint(jax.random.PRNGKey(42),(self.original_points,4),0,8)\n",
        "        matrices = jnp.array(generate_d4_matrices(28))\n",
        "\n",
        "        def apply_matrix(img, D4matrix):\n",
        "            return jnp.stack([matrices[i] @ img for i in range(4)])\n",
        "        apply_matrices = jax.vmap(apply_matrix,(0, 0), 0)\n",
        "\n",
        "        all_images = apply_matrices(jnp.array(images),args).reshape((self.points,64))\n",
        "        self.all_images = torch.from_numpy(np.array(all_images))\n",
        "        self.all_Xs = torch.from_numpy(np.array(all_images @ B.T))\n",
        "\n",
        "    def __len__(self):\n",
        "        return self.points\n",
        "\n",
        "    def __getitem__(self, index):\n",
        "        image, label, X = self.all_images[index], self.labels[index], self.all_Xs[index]\n",
        "        return (image, label, X)"
      ]
    },
    {
      "cell_type": "code",
      "execution_count": 19,
      "metadata": {
        "id": "nfZAJJZnTvus"
      },
      "outputs": [],
      "source": [
        "def numpy_collate(batch):\n",
        "  n = len(batch)\n",
        "  imgs = jnp.stack([jnp.array(batch[i][0]) for i in range(n)])\n",
        "  labels = jnp.array([batch[i][1] for i in range(n)])\n",
        "  Xs = jnp.stack([jnp.array(batch[i][3]) for i in range(n)])\n",
        "  return [imgs, labels, Xs]"
      ]
    },
    {
      "cell_type": "code",
      "execution_count": 20,
      "metadata": {
        "colab": {
          "base_uri": "https://localhost:8080/"
        },
        "id": "ipb4IB8HYP0-",
        "outputId": "a1a0dfc1-1af7-4448-f73e-25f258c86232"
      },
      "outputs": [],
      "source": [
        "data_dir = './data'\n",
        "transform = torchvision.transforms.Compose([torchvision.transforms.ToTensor(),\n",
        "                                torchvision.transforms.Normalize((0.1307,), (0.3081,))])\n",
        "train_ds = torchvision.datasets.MNIST(root=data_dir,\n",
        "                                                train=True,\n",
        "                                                transform=transform,\n",
        "                                                download=True)"
      ]
    },
    {
      "cell_type": "code",
      "execution_count": 21,
      "metadata": {
        "colab": {
          "base_uri": "https://localhost:8080/"
        },
        "id": "L7inmPQiidrc",
        "outputId": "e308f7c7-69f0-4b76-d7f4-536a930485e3"
      },
      "outputs": [
        {
          "ename": "RuntimeError",
          "evalue": "shape '[18623, 64]' is invalid for input of size 14600432",
          "output_type": "error",
          "traceback": [
            "\u001b[0;31m---------------------------------------------------------------------------\u001b[0m",
            "\u001b[0;31mRuntimeError\u001b[0m                              Traceback (most recent call last)",
            "\u001b[0;32m/var/folders/60/3d7rr4bs15gb8hrwhcmkd7_h0000gn/T/ipykernel_41587/3456322989.py\u001b[0m in \u001b[0;36m<module>\u001b[0;34m\u001b[0m\n\u001b[1;32m      1\u001b[0m \u001b[0mclasses\u001b[0m \u001b[0;34m=\u001b[0m \u001b[0;34m[\u001b[0m\u001b[0mtorch\u001b[0m\u001b[0;34m.\u001b[0m\u001b[0mtensor\u001b[0m\u001b[0;34m(\u001b[0m\u001b[0mi\u001b[0m\u001b[0;34m)\u001b[0m \u001b[0;32mfor\u001b[0m \u001b[0mi\u001b[0m \u001b[0;32min\u001b[0m \u001b[0mrange\u001b[0m\u001b[0;34m(\u001b[0m\u001b[0;36m3\u001b[0m\u001b[0;34m)\u001b[0m\u001b[0;34m]\u001b[0m\u001b[0;34m\u001b[0m\u001b[0;34m\u001b[0m\u001b[0m\n\u001b[0;32m----> 2\u001b[0;31m \u001b[0mtrain_ds\u001b[0m \u001b[0;34m=\u001b[0m \u001b[0mRotMNISTDataset\u001b[0m\u001b[0;34m(\u001b[0m\u001b[0mtrain_ds\u001b[0m\u001b[0;34m.\u001b[0m\u001b[0mdata\u001b[0m\u001b[0;34m[\u001b[0m\u001b[0;34m:\u001b[0m\u001b[0;34m,\u001b[0m\u001b[0;34m:\u001b[0m\u001b[0;34m,\u001b[0m\u001b[0;34m:\u001b[0m\u001b[0;34m]\u001b[0m\u001b[0;34m/\u001b[0m\u001b[0;36m256\u001b[0m\u001b[0;34m,\u001b[0m \u001b[0mtrain_ds\u001b[0m\u001b[0;34m.\u001b[0m\u001b[0mtargets\u001b[0m\u001b[0;34m[\u001b[0m\u001b[0;34m:\u001b[0m\u001b[0;34m]\u001b[0m\u001b[0;34m,\u001b[0m \u001b[0mclasses\u001b[0m\u001b[0;34m)\u001b[0m\u001b[0;34m\u001b[0m\u001b[0;34m\u001b[0m\u001b[0m\n\u001b[0m\u001b[1;32m      3\u001b[0m \u001b[0mprint\u001b[0m\u001b[0;34m(\u001b[0m\u001b[0;34m\"Total no. of points:\"\u001b[0m\u001b[0;34m,\u001b[0m \u001b[0mlen\u001b[0m\u001b[0;34m(\u001b[0m\u001b[0mtrain_ds\u001b[0m\u001b[0;34m)\u001b[0m\u001b[0;34m)\u001b[0m\u001b[0;34m\u001b[0m\u001b[0;34m\u001b[0m\u001b[0m\n\u001b[1;32m      4\u001b[0m \u001b[0;34m\u001b[0m\u001b[0m\n\u001b[1;32m      5\u001b[0m \u001b[0mtrain_ds\u001b[0m\u001b[0;34m,\u001b[0m \u001b[0mval_ds\u001b[0m \u001b[0;34m=\u001b[0m \u001b[0mtorch\u001b[0m\u001b[0;34m.\u001b[0m\u001b[0mutils\u001b[0m\u001b[0;34m.\u001b[0m\u001b[0mdata\u001b[0m\u001b[0;34m.\u001b[0m\u001b[0mrandom_split\u001b[0m\u001b[0;34m(\u001b[0m\u001b[0mtrain_ds\u001b[0m\u001b[0;34m,\u001b[0m \u001b[0;34m[\u001b[0m\u001b[0mint\u001b[0m\u001b[0;34m(\u001b[0m\u001b[0;36m9\u001b[0m\u001b[0;34m*\u001b[0m\u001b[0mlen\u001b[0m\u001b[0;34m(\u001b[0m\u001b[0mtrain_ds\u001b[0m\u001b[0;34m)\u001b[0m\u001b[0;34m/\u001b[0m\u001b[0;36m11\u001b[0m\u001b[0;34m)\u001b[0m\u001b[0;34m,\u001b[0m \u001b[0mint\u001b[0m\u001b[0;34m(\u001b[0m\u001b[0;36m2\u001b[0m\u001b[0;34m*\u001b[0m\u001b[0mlen\u001b[0m\u001b[0;34m(\u001b[0m\u001b[0mtrain_ds\u001b[0m\u001b[0;34m)\u001b[0m\u001b[0;34m/\u001b[0m\u001b[0;36m11\u001b[0m\u001b[0;34m)\u001b[0m\u001b[0;34m]\u001b[0m\u001b[0;34m)\u001b[0m\u001b[0;34m\u001b[0m\u001b[0;34m\u001b[0m\u001b[0m\n",
            "\u001b[0;32m/var/folders/60/3d7rr4bs15gb8hrwhcmkd7_h0000gn/T/ipykernel_41587/1701080788.py\u001b[0m in \u001b[0;36m__init__\u001b[0;34m(self, torch_images, torch_labels, classes)\u001b[0m\n\u001b[1;32m     11\u001b[0m         \u001b[0mself\u001b[0m\u001b[0;34m.\u001b[0m\u001b[0mids\u001b[0m \u001b[0;34m=\u001b[0m \u001b[0mtorch\u001b[0m\u001b[0;34m.\u001b[0m\u001b[0mtensor\u001b[0m\u001b[0;34m(\u001b[0m\u001b[0mnp\u001b[0m\u001b[0;34m.\u001b[0m\u001b[0marray\u001b[0m\u001b[0;34m(\u001b[0m\u001b[0;34m[\u001b[0m\u001b[0mi\u001b[0m \u001b[0;32mfor\u001b[0m \u001b[0mi\u001b[0m \u001b[0;32min\u001b[0m \u001b[0mrange\u001b[0m\u001b[0;34m(\u001b[0m\u001b[0mself\u001b[0m\u001b[0;34m.\u001b[0m\u001b[0mpoints\u001b[0m\u001b[0;34m)\u001b[0m\u001b[0;34m]\u001b[0m\u001b[0;34m)\u001b[0m\u001b[0;34m)\u001b[0m\u001b[0;34m\u001b[0m\u001b[0;34m\u001b[0m\u001b[0m\n\u001b[1;32m     12\u001b[0m \u001b[0;34m\u001b[0m\u001b[0m\n\u001b[0;32m---> 13\u001b[0;31m         \u001b[0mimages\u001b[0m \u001b[0;34m=\u001b[0m \u001b[0mtorch_images\u001b[0m\u001b[0;34m[\u001b[0m\u001b[0mtorch_ids\u001b[0m\u001b[0;34m]\u001b[0m\u001b[0;34m.\u001b[0m\u001b[0mreshape\u001b[0m\u001b[0;34m(\u001b[0m\u001b[0;34m(\u001b[0m\u001b[0mself\u001b[0m\u001b[0;34m.\u001b[0m\u001b[0moriginal_points\u001b[0m\u001b[0;34m,\u001b[0m\u001b[0;36m64\u001b[0m\u001b[0;34m)\u001b[0m\u001b[0;34m)\u001b[0m\u001b[0;34m\u001b[0m\u001b[0;34m\u001b[0m\u001b[0m\n\u001b[0m\u001b[1;32m     14\u001b[0m         \u001b[0margs\u001b[0m \u001b[0;34m=\u001b[0m \u001b[0mjax\u001b[0m\u001b[0;34m.\u001b[0m\u001b[0mrandom\u001b[0m\u001b[0;34m.\u001b[0m\u001b[0mrandint\u001b[0m\u001b[0;34m(\u001b[0m\u001b[0mjax\u001b[0m\u001b[0;34m.\u001b[0m\u001b[0mrandom\u001b[0m\u001b[0;34m.\u001b[0m\u001b[0mPRNGKey\u001b[0m\u001b[0;34m(\u001b[0m\u001b[0;36m42\u001b[0m\u001b[0;34m)\u001b[0m\u001b[0;34m,\u001b[0m\u001b[0;34m(\u001b[0m\u001b[0mself\u001b[0m\u001b[0;34m.\u001b[0m\u001b[0moriginal_points\u001b[0m\u001b[0;34m,\u001b[0m\u001b[0;36m4\u001b[0m\u001b[0;34m)\u001b[0m\u001b[0;34m,\u001b[0m\u001b[0;36m0\u001b[0m\u001b[0;34m,\u001b[0m\u001b[0;36m8\u001b[0m\u001b[0;34m)\u001b[0m\u001b[0;34m\u001b[0m\u001b[0;34m\u001b[0m\u001b[0m\n\u001b[1;32m     15\u001b[0m         \u001b[0mmatrices\u001b[0m \u001b[0;34m=\u001b[0m \u001b[0mjnp\u001b[0m\u001b[0;34m.\u001b[0m\u001b[0marray\u001b[0m\u001b[0;34m(\u001b[0m\u001b[0mgenerate_d4_matrices\u001b[0m\u001b[0;34m(\u001b[0m\u001b[0;36m28\u001b[0m\u001b[0;34m)\u001b[0m\u001b[0;34m)\u001b[0m\u001b[0;34m\u001b[0m\u001b[0;34m\u001b[0m\u001b[0m\n",
            "\u001b[0;31mRuntimeError\u001b[0m: shape '[18623, 64]' is invalid for input of size 14600432"
          ]
        }
      ],
      "source": [
        "classes = [torch.tensor(i) for i in range(3)]\n",
        "train_ds = RotMNISTDataset(train_ds.data[:,:,:]/256, train_ds.targets[:], classes)\n",
        "print(\"Total no. of points:\", len(train_ds))\n",
        "\n",
        "train_ds, val_ds = torch.utils.data.random_split(train_ds, [int(9*len(train_ds)/11), int(2*len(train_ds)/11)])\n",
        "batch_size = 64\n",
        "points = len(train_ds)\n",
        "print(\"Points in training:\", points)\n",
        "# print(\"Points in validation:\", len(val_ds))\n",
        "\n",
        "train_loader = torch.utils.data.DataLoader(train_ds, collate_fn=numpy_collate, batch_size=batch_size, shuffle=True)\n",
        "\n",
        "val_loader = torch.utils.data.DataLoader(val_ds, collate_fn=numpy_collate, batch_size=len(val_ds), shuffle=True)"
      ]
    },
    {
      "cell_type": "markdown",
      "metadata": {
        "id": "7qaWTfT_05_c"
      },
      "source": [
        "# General Dataset"
      ]
    },
    {
      "cell_type": "code",
      "execution_count": null,
      "metadata": {
        "id": "RvPbDG6p0Xr0"
      },
      "outputs": [],
      "source": [
        "\n",
        "train_ds = torch.utils.data.Dataset()\n",
        "val_ds = torch.utils.data.Dataset()"
      ]
    },
    {
      "cell_type": "code",
      "execution_count": null,
      "metadata": {
        "id": "qW4AtnaztEsk"
      },
      "outputs": [],
      "source": [
        "train_loader = torch.utils.data.DataLoader(train_ds, batch_size=64, collate_fn=numpy_collate)\n",
        "val_loader = torch.utils.data.DataLoader(val_ds, batch_size=100000, collate_fn=numpy_collate)"
      ]
    },
    {
      "cell_type": "code",
      "execution_count": null,
      "metadata": {
        "id": "yF-q4gOOuy6d"
      },
      "outputs": [],
      "source": [
        "|# FOR VIBA\n",
        "\n",
        "# irreps = {}\n",
        "# reps =\n",
        "\n",
        "# def get_dim_alpha_eigenvalues(irreps):\n",
        "#   di = {}\n",
        "#   for n in range():\n",
        "#     di[n] = {}\n",
        "#     for k in range(irreps.keys()): # different k for dimension of irreps\n",
        "#       di[n][k] = {}\n",
        "#       for j in range(len(irreps[k])): # no. of kD irreps\n",
        "#         e, P = np.linalg.eig(np.array([[irreps[n][k][j]]],dtype=np.float64))\n",
        "#         e = e.astype(np.complex64)\n",
        "#         e = np.around(e).astype(np.complex64)\n",
        "#         unique, _ = np.unique(e, return_counts=True)\n",
        "#         di[n][k][j] = unique.astype(np.complex64)\n",
        "#   return di\n",
        "\n",
        "# def get_B_jax(representations):\n",
        "#   d = {}\n",
        "#   for n in range(8):\n",
        "#     # Get eigenvalues and eigenvectors of representations\n",
        "#     e, P = np.linalg.eig(np.array(representations[n],dtype=np.float64))\n",
        "#     e_copy = e\n",
        "#     e = e.astype(np.complex64)\n",
        "#     e = np.around(e).astype(np.complex64)\n",
        "\n",
        "#     # Count eigenvalues and sort as well as eigenvectors\n",
        "#     unique, counts = np.unique(e, return_counts=True)\n",
        "#     d[n] = (unique.astype(np.complex64), counts)\n",
        "\n",
        "# for n in range(0,order):\n",
        "#   for elem,count in zip(*d[n]):\n",
        "#     print('n',parse_expr('+'.join(['s'+str(k+1) for k in di[n].keys() if np.any(di[n][k] == elem)])))\n",
        "\n",
        "# # Solve equations to find m_alphas\n",
        "# m_alphas = []\n",
        "\n",
        "# def get_B(m_alphas):\n",
        "\n"
      ]
    },
    {
      "cell_type": "code",
      "execution_count": null,
      "metadata": {
        "id": "j0ZH9I6LtCaU"
      },
      "outputs": [],
      "source": [
        "def numpy_collate(batch):\n",
        "  n = len(batch)\n",
        "  x = [jnp.array(batch[i][0]) for i in range(n)]\n",
        "  labels = jnp.array([batch[i][1] for i in range(n)])\n",
        "  x_reg_rep = x @ B_jax.T\n",
        "  return [labels, x_reg_rep]\n",
        "\n",
        "def torch_collate(batch):\n",
        "  n = len(batch)\n",
        "  x, labels = batch\n",
        "  x_reg_rep = x @ B_torch.T\n",
        "  return [labels, x_reg_rep]"
      ]
    },
    {
      "cell_type": "markdown",
      "metadata": {
        "id": "UY-CfBVR08rK"
      },
      "source": [
        "# General model"
      ]
    },
    {
      "cell_type": "code",
      "execution_count": null,
      "metadata": {
        "id": "y4T8WG6BMWIz"
      },
      "outputs": [],
      "source": [
        "# Insert fundamental invariants here\n",
        "Pi_vmap = jax.vmap(lambda x: jnp.array( [x[0],x[1]**2,x[2]**2,x[3]**2,x[4]**2+x[5]**2,x[6]**2+x[7]**2,x[4]**4+x[5]**4,x[6]**4+x[7]**4] ), 0, 0)"
      ]
    },
    {
      "cell_type": "code",
      "execution_count": null,
      "metadata": {
        "id": "vZy5qk-7nN6p"
      },
      "outputs": [],
      "source": [
        "class Pi(nn.Module):\n",
        "\n",
        "    # Calculate pi(.)=(pi_1(.),...,pi_r(.)) for inputs in R^d_reg_rep\n",
        "\n",
        "\n",
        "    @nn.compact\n",
        "    def __call__(self, input):\n",
        "\n",
        "       shpe = input.shape # (batch_size, T_size, d_reg_rep)\n",
        "       x = input.reshape((-1, shpe[-1])) # (batch_size*T_size, d_reg_rep)\n",
        "       pi = Pi_vmap(x) # (batch_size*T_size, n_invs)\n",
        "\n",
        "       return  pi.reshape(tuple([*shpe[:-1]]+[pi.shape[-1]])) #(batch_size, T_size, n_invs)"
      ]
    },
    {
      "cell_type": "code",
      "execution_count": null,
      "metadata": {
        "id": "y6MiAkpiwYRg"
      },
      "outputs": [],
      "source": [
        "class A_alpha(nn.Module):\n",
        "\n",
        "    # Each A_alpha is (m_alpha,dim_alpha) matrix and\n",
        "    # takes R^dim_alpha*m_alpha to R^dim_alpha**2\n",
        "    # for all t=1,...,T_size\n",
        "\n",
        "    T_size: int\n",
        "    m_alpha: int\n",
        "    dim_alpha: int\n",
        "\n",
        "    def setup(self):\n",
        "\n",
        "      self.W = self.param('W', nn.initializers.glorot_normal(), (self.T_size,self.m_alpha,self.dim_alpha))\n",
        "\n",
        "    def __call__(self, input): # (batch_size, m_alpha*dim_alpha)\n",
        "\n",
        "      Ax = input.reshape((-1,1,self.dim_alpha,self.m_alpha)) @  self.W\n",
        "\n",
        "      return Ax.reshape((-1,self.T_size,self.dim_alpha**2), order='F') # (batch_size, T_size, dim_alpha**2)"
      ]
    },
    {
      "cell_type": "code",
      "execution_count": null,
      "metadata": {
        "id": "HeH-mLgwkfvU"
      },
      "outputs": [],
      "source": [
        "class ALayers(nn.Module):\n",
        "\n",
        "    # Maps x in R^d_data=sum(dim_alpha*m_alpha for alpha) to R^d_reg_rep=sum(dim_alpha**2 for alpha)\n",
        "    # for all t=1,...,T_size\n",
        "\n",
        "    T_size: int\n",
        "    m_alphas: Sequence[int]\n",
        "    dim_alphas: Sequence[int]\n",
        "\n",
        "    def setup(self):\n",
        "\n",
        "      self.A_alphas = [A_alpha(self.T_size, self.m_alphas[i], self.dim_alphas[i]) for i in range(len(self.dim_alphas))]\n",
        "      self.splits = [0,int(self.m_alphas[0])]+[int(self.m_alphas[i]*self.dim_alphas[i]+sum(self.m_alphas[:i])) for i in range(1,len(self.m_alphas))]\n",
        "\n",
        "    def __call__(self, input): # (batch_size, d_data)\n",
        "\n",
        "       vl = [self.A_alphas[i](input[:,:,self.splits[i]:self.splits[i+1]]) for i in range(len(self.splits)-1)]\n",
        "\n",
        "       return  jnp.concatenate(vl, axis=-1) #(batch_size, T_size, d_reg_rep)"
      ]
    },
    {
      "cell_type": "code",
      "execution_count": null,
      "metadata": {
        "id": "FT0vPeLInN6p"
      },
      "outputs": [],
      "source": [
        "class ParallelDense(nn.Module):\n",
        "\n",
        "    # Dense layer W_lt+b_lt to approximate layer l of f_t(.)\n",
        "    # for all t=1,...,T_size\n",
        "\n",
        "    features_in: int\n",
        "    features_out: int\n",
        "    T_size: int\n",
        "\n",
        "    def setup(self):\n",
        "       self.W = self.param('W', nn.initializers.glorot_normal(), (self.T_size, self.features_in, self.features_out))\n",
        "       self.b = self.param('b', nn.initializers.glorot_normal(), (self.T_size, self.features_out))\n",
        "\n",
        "    def __call__(self, input): # (batch_size, T_size, features_in)\n",
        "\n",
        "       return (jnp.expand_dims(input, axis=-2) @ self.W).squeeze() + self.b.squeeze() # (batch_size, T_size, features_out)"
      ]
    },
    {
      "cell_type": "code",
      "execution_count": null,
      "metadata": {
        "id": "Ml6zisrJ8Rv7"
      },
      "outputs": [],
      "source": [
        "class ParallelPoly(nn.Module):\n",
        "\n",
        "    # Approximate T polynomials f_t(.) map R^n_invs\n",
        "    # to R^n_classes for all t=1,...,T_size\n",
        "\n",
        "    T_size: int\n",
        "    p_layers : Sequence[int]\n",
        "    n_classes: int\n",
        "\n",
        "    @nn.compact\n",
        "    def __call__(self, input): # (batch_size, T_size, n_invs)\n",
        "       input = jnp.expand_dims(input, axis = -2) # (batch_size, T_size, 1, n_invs)\n",
        "\n",
        "       v = ParallelDense(input.shape[-1], self.p_layers[0], self.T_size)(input)\n",
        "       v = nn.gelu(v)\n",
        "\n",
        "       for i in range(len(self.p_layers)-1):\n",
        "          v = ParallelDense(self.p_layers[i], self.p_layers[i+1], self.T_size)(v)\n",
        "          v = nn.gelu(v)\n",
        "\n",
        "       v = ParallelDense(self.p_layers[-1], self.n_classes, self.T_size)(v)\n",
        "\n",
        "       return v # (batch_size, T_size, n_classes)"
      ]
    },
    {
      "cell_type": "code",
      "execution_count": null,
      "metadata": {
        "id": "4D_93IYZ4veT"
      },
      "outputs": [],
      "source": [
        "class InvModel(nn.Module):\n",
        "\n",
        "\n",
        "    T_size : int\n",
        "    m_alphas : Sequence[int]\n",
        "    dim_alphas: Sequence[int]\n",
        "    p_layers: Sequence[int]\n",
        "    n_classes: int\n",
        "\n",
        "    def setup(self):\n",
        "\n",
        "       self.c_ts = self.param('c_ts', nn.initializers.normal(), (self.T_size,1))\n",
        "\n",
        "       self.A_ts = ALayers(self.T_size,self.m_alphas, self.dim_alphas)\n",
        "\n",
        "       self.pi = Pi()\n",
        "\n",
        "       self.f_ts = ParallelPoly(self.T_size,3*self.s,self.p_layers)\n",
        "\n",
        "\n",
        "    def __call__(self, input): # (batch_size, d_data)\n",
        "\n",
        "       label, x_reg_rep = input\n",
        "\n",
        "       At = self.A_ts(x_reg_rep) # (batch_size, T_size, d_reg_rep)\n",
        "\n",
        "       PiAt = self.pi(At) # (batch_size, T_size, n_invs)\n",
        "\n",
        "       ft = self.f_ts(PiAt) # (batch_size, T_size, n_classes)\n",
        "\n",
        "       output = jnp.sum(ft * self.c_ts, axis=1) #(batch_size, n_classes)\n",
        "\n",
        "       return output, label"
      ]
    },
    {
      "cell_type": "markdown",
      "metadata": {
        "id": "OgAgdagC-tdd"
      },
      "source": [
        "# Train"
      ]
    },
    {
      "cell_type": "code",
      "execution_count": null,
      "metadata": {
        "id": "FB8tRkvFnBxh"
      },
      "outputs": [],
      "source": [
        "from flax.core.frozen_dict import freeze, unfreeze\n",
        "from flax.core.frozen_dict import pop as flax_pop\n",
        "import math\n",
        "\n",
        "class TrainerModule:\n",
        "\n",
        "    def __init__(self, model_name,\n",
        "                      train_loader, # Train dataset loader\n",
        "                      val_loader,\n",
        "                      lr=1e-5, # Learning rate\n",
        "                      seed=42,\n",
        "                      wandb_log=False,\n",
        "                      T_size=5,\n",
        "                      m_alphas=[105,91,91,105,196],\n",
        "                      dim_alphas=[1,1,1,1,2],\n",
        "                      p_layers=[32,64,32,16],\n",
        "                      n_classes=10):\n",
        "\n",
        "\n",
        "        super().__init__()\n",
        "\n",
        "        # Trainer inputs\n",
        "        self.model_name = model_name\n",
        "        self.train_loader=train_loader\n",
        "        self.val_loader=val_loader\n",
        "        self.lr = lr\n",
        "        self.seed = seed\n",
        "        self.wandb_log=wandb_log\n",
        "\n",
        "        # Model inputs for InvModel and EquiModel\n",
        "        self.T_size=T_size\n",
        "        self.m_alphas=m_alphas\n",
        "        self.dim_alphas=dim_alphas\n",
        "        self.p_layers=p_layers\n",
        "        self.n_classes=n_classes\n",
        "\n",
        "        # Create model\n",
        "        self.model = InvModel(T_size=self.T_size,\n",
        "                                m_alphas=self.m_alphas,\n",
        "                                dim_alphas=self.dim_alphas,\n",
        "                                p_layers=self.p_layers,\n",
        "                                n_classes=self.n_classes)\n",
        "\n",
        "        self.exmp_inputs = next(iter(self.train_loader)) # Load the training data\n",
        "        self.create_functions() # Create training and validation step functions\n",
        "        self.init_model() # Initialise the model\n",
        "\n",
        "    def create_functions(self):\n",
        "\n",
        "        def train_step(model_state, batch):\n",
        "\n",
        "            def loss_fn_mse(model_params):\n",
        "                    label_hat, label  = model_state.apply_fn(model_params, batch)\n",
        "                    return ((y_hat-y)**2).mean()\n",
        "\n",
        "            grad = jax.value_and_grad(loss_fn_mse,\n",
        "                            argnums=0,\n",
        "                            has_aux=False\n",
        "                            )\n",
        "\n",
        "            loss, grads = grad(model_state.params)\n",
        "\n",
        "            model_state = model_state.apply_gradients(grads=grads)\n",
        "\n",
        "            return model_state, loss\n",
        "\n",
        "        self.train_step =  jax.jit(train_step)\n",
        "\n",
        "        def val_step(model_state, batch):\n",
        "\n",
        "            label_hat, label = self.model.apply(model_state.params, batch)\n",
        "\n",
        "            return ((y_hat-y)**2).mean()\n",
        "\n",
        "        self.val_step =  jax.jit(val_step)\n",
        "\n",
        "    def init_model(self):\n",
        "\n",
        "        # Initialize model\n",
        "        rng = jax.random.PRNGKey(self.seed)\n",
        "        rng, inp_model = jax.random.split(rng, 2)\n",
        "        model_params = self.model.init(inp_model, self.exmp_inputs)  # ['params']\n",
        "\n",
        "        # Optimizer\n",
        "        optimizer = optax.inject_hyperparams(optax.adamw)(learning_rate=self.lr)\n",
        "\n",
        "        # Initialize training state (keeps track of parameters and model for/during training)\n",
        "        self.model_state = train_state.TrainState.create(apply_fn=self.model.apply, params=model_params, tx=optimizer)\n",
        "\n",
        "\n",
        "    def train_model(self, epochs, lr=None):\n",
        "\n",
        "        if lr is not None:\n",
        "          self.model_state.opt_state.hyperparams['learning_rate'] = lr\n",
        "          if self.wandb_log:\n",
        "            wandb.log({\"lr\" : self.lr})\n",
        "\n",
        "        for epoch_idx in range(1, epochs+1):\n",
        "\n",
        "            # Call train epoch\n",
        "            loss = self.train_epoch()\n",
        "            print(\"Epoch: \", epoch_idx, \", Loss : \", loss)\n",
        "\n",
        "    def train_epoch(self):\n",
        "\n",
        "        for batch in self.train_loader:\n",
        "            self.model_state, loss = self.train_step(self.model_state, batch)\n",
        "\n",
        "\n",
        "        for batch in self.val_loader:\n",
        "            val_loss = self.val_step(self.model_state, batch)\n",
        "\n",
        "        #plot\n",
        "\n",
        "        return loss\n"
      ]
    },
    {
      "cell_type": "code",
      "execution_count": null,
      "metadata": {
        "id": "EajBhOPECCPZ"
      },
      "outputs": [],
      "source": [
        "\n",
        "\n",
        "# Trainer inputs\n",
        "model_name = 'imagenet_1k_avg_pool'\n",
        "lr = 0.01\n",
        "seed = 42\n",
        "wandb_log = True\n",
        "\n",
        "# Model inputs for InvModel and EquiModel\n",
        "T_size=5\n",
        "m_alphas=[105,91,91,105,196§]\n",
        "dim_alphas=[1,1,1,1,2]\n",
        "p_layers=[32,64,32]\n",
        "n_classes=num_classes\n"
      ]
    },
    {
      "cell_type": "code",
      "execution_count": null,
      "metadata": {
        "id": "C6etO0ZRl3d7"
      },
      "outputs": [],
      "source": [
        "trainer = TrainerModule(model_name=model_name,\n",
        "                      train_loader=train_loader,\n",
        "                      val_loader=val_loader,\n",
        "                      lr=lr,\n",
        "                      seed=seed,\n",
        "                      wandb_log=wandb_log,\n",
        "                      T_size=T_size,\n",
        "                      m_alphas=m_alphas,\n",
        "                      dim_alphas=dim_alphas,\n",
        "                      p_layers=p_layers,\n",
        "                      n_classes=n_classes)"
      ]
    },
    {
      "cell_type": "code",
      "execution_count": null,
      "metadata": {
        "colab": {
          "base_uri": "https://localhost:8080/",
          "height": 385
        },
        "id": "hHD8SD4EJOGg",
        "outputId": "d6210979-8d70-414c-bf6a-643ea5e4645e"
      },
      "outputs": [
        {
          "name": "stderr",
          "output_type": "stream",
          "text": [
            "/usr/local/lib/python3.10/dist-packages/PIL/TiffImagePlugin.py:858: UserWarning: Corrupt EXIF data.  Expecting to read 2 bytes but only got 0. \n",
            "  warnings.warn(str(msg))\n"
          ]
        },
        {
          "ename": "KeyboardInterrupt",
          "evalue": "",
          "output_type": "error",
          "traceback": [
            "\u001b[0;31m---------------------------------------------------------------------------\u001b[0m",
            "\u001b[0;31mKeyboardInterrupt\u001b[0m                         Traceback (most recent call last)",
            "\u001b[0;32m<ipython-input-256-afdbab10b42e>\u001b[0m in \u001b[0;36m<cell line: 1>\u001b[0;34m()\u001b[0m\n\u001b[0;32m----> 1\u001b[0;31m \u001b[0mtrainer\u001b[0m\u001b[0;34m.\u001b[0m\u001b[0mtrain_model\u001b[0m\u001b[0;34m(\u001b[0m\u001b[0mepochs\u001b[0m\u001b[0;34m=\u001b[0m\u001b[0;36m1\u001b[0m\u001b[0;34m)\u001b[0m\u001b[0;34m\u001b[0m\u001b[0;34m\u001b[0m\u001b[0m\n\u001b[0m",
            "\u001b[0;32m<ipython-input-54-24f0cde1bf2d>\u001b[0m in \u001b[0;36mtrain_model\u001b[0;34m(self, epochs, lr)\u001b[0m\n\u001b[1;32m    120\u001b[0m \u001b[0;34m\u001b[0m\u001b[0m\n\u001b[1;32m    121\u001b[0m             \u001b[0;31m# Call train epoch\u001b[0m\u001b[0;34m\u001b[0m\u001b[0;34m\u001b[0m\u001b[0m\n\u001b[0;32m--> 122\u001b[0;31m             \u001b[0mloss\u001b[0m \u001b[0;34m=\u001b[0m \u001b[0mself\u001b[0m\u001b[0;34m.\u001b[0m\u001b[0mtrain_epoch\u001b[0m\u001b[0;34m(\u001b[0m\u001b[0;34m)\u001b[0m\u001b[0;34m\u001b[0m\u001b[0;34m\u001b[0m\u001b[0m\n\u001b[0m\u001b[1;32m    123\u001b[0m             \u001b[0mprint\u001b[0m\u001b[0;34m(\u001b[0m\u001b[0;34m\"Epoch: \"\u001b[0m\u001b[0;34m,\u001b[0m \u001b[0mepoch_idx\u001b[0m\u001b[0;34m,\u001b[0m \u001b[0;34m\", Loss : \"\u001b[0m\u001b[0;34m,\u001b[0m \u001b[0mloss\u001b[0m\u001b[0;34m)\u001b[0m\u001b[0;34m\u001b[0m\u001b[0;34m\u001b[0m\u001b[0m\n\u001b[1;32m    124\u001b[0m \u001b[0;34m\u001b[0m\u001b[0m\n",
            "\u001b[0;32m<ipython-input-54-24f0cde1bf2d>\u001b[0m in \u001b[0;36mtrain_epoch\u001b[0;34m(self)\u001b[0m\n\u001b[1;32m    125\u001b[0m     \u001b[0;32mdef\u001b[0m \u001b[0mtrain_epoch\u001b[0m\u001b[0;34m(\u001b[0m\u001b[0mself\u001b[0m\u001b[0;34m)\u001b[0m\u001b[0;34m:\u001b[0m\u001b[0;34m\u001b[0m\u001b[0;34m\u001b[0m\u001b[0m\n\u001b[1;32m    126\u001b[0m \u001b[0;34m\u001b[0m\u001b[0m\n\u001b[0;32m--> 127\u001b[0;31m         \u001b[0;32mfor\u001b[0m \u001b[0mbatch\u001b[0m \u001b[0;32min\u001b[0m \u001b[0mself\u001b[0m\u001b[0;34m.\u001b[0m\u001b[0mtrain_loader\u001b[0m\u001b[0;34m:\u001b[0m\u001b[0;34m\u001b[0m\u001b[0;34m\u001b[0m\u001b[0m\n\u001b[0m\u001b[1;32m    128\u001b[0m             \u001b[0mself\u001b[0m\u001b[0;34m.\u001b[0m\u001b[0mmodel_state\u001b[0m\u001b[0;34m,\u001b[0m \u001b[0mloss\u001b[0m\u001b[0;34m,\u001b[0m \u001b[0mauxes\u001b[0m \u001b[0;34m=\u001b[0m \u001b[0mself\u001b[0m\u001b[0;34m.\u001b[0m\u001b[0mtrain_step\u001b[0m\u001b[0;34m(\u001b[0m\u001b[0mself\u001b[0m\u001b[0;34m.\u001b[0m\u001b[0mmodel_state\u001b[0m\u001b[0;34m,\u001b[0m \u001b[0mbatch\u001b[0m\u001b[0;34m)\u001b[0m\u001b[0;34m\u001b[0m\u001b[0;34m\u001b[0m\u001b[0m\n\u001b[1;32m    129\u001b[0m \u001b[0;34m\u001b[0m\u001b[0m\n",
            "\u001b[0;32m/usr/local/lib/python3.10/dist-packages/torch/utils/data/dataloader.py\u001b[0m in \u001b[0;36m__next__\u001b[0;34m(self)\u001b[0m\n\u001b[1;32m    629\u001b[0m                 \u001b[0;31m# TODO(https://github.com/pytorch/pytorch/issues/76750)\u001b[0m\u001b[0;34m\u001b[0m\u001b[0;34m\u001b[0m\u001b[0m\n\u001b[1;32m    630\u001b[0m                 \u001b[0mself\u001b[0m\u001b[0;34m.\u001b[0m\u001b[0m_reset\u001b[0m\u001b[0;34m(\u001b[0m\u001b[0;34m)\u001b[0m  \u001b[0;31m# type: ignore[call-arg]\u001b[0m\u001b[0;34m\u001b[0m\u001b[0;34m\u001b[0m\u001b[0m\n\u001b[0;32m--> 631\u001b[0;31m             \u001b[0mdata\u001b[0m \u001b[0;34m=\u001b[0m \u001b[0mself\u001b[0m\u001b[0;34m.\u001b[0m\u001b[0m_next_data\u001b[0m\u001b[0;34m(\u001b[0m\u001b[0;34m)\u001b[0m\u001b[0;34m\u001b[0m\u001b[0;34m\u001b[0m\u001b[0m\n\u001b[0m\u001b[1;32m    632\u001b[0m             \u001b[0mself\u001b[0m\u001b[0;34m.\u001b[0m\u001b[0m_num_yielded\u001b[0m \u001b[0;34m+=\u001b[0m \u001b[0;36m1\u001b[0m\u001b[0;34m\u001b[0m\u001b[0;34m\u001b[0m\u001b[0m\n\u001b[1;32m    633\u001b[0m             \u001b[0;32mif\u001b[0m \u001b[0mself\u001b[0m\u001b[0;34m.\u001b[0m\u001b[0m_dataset_kind\u001b[0m \u001b[0;34m==\u001b[0m \u001b[0m_DatasetKind\u001b[0m\u001b[0;34m.\u001b[0m\u001b[0mIterable\u001b[0m \u001b[0;32mand\u001b[0m\u001b[0;31m \u001b[0m\u001b[0;31m\\\u001b[0m\u001b[0;34m\u001b[0m\u001b[0;34m\u001b[0m\u001b[0m\n",
            "\u001b[0;32m/usr/local/lib/python3.10/dist-packages/torch/utils/data/dataloader.py\u001b[0m in \u001b[0;36m_next_data\u001b[0;34m(self)\u001b[0m\n\u001b[1;32m    673\u001b[0m     \u001b[0;32mdef\u001b[0m \u001b[0m_next_data\u001b[0m\u001b[0;34m(\u001b[0m\u001b[0mself\u001b[0m\u001b[0;34m)\u001b[0m\u001b[0;34m:\u001b[0m\u001b[0;34m\u001b[0m\u001b[0;34m\u001b[0m\u001b[0m\n\u001b[1;32m    674\u001b[0m         \u001b[0mindex\u001b[0m \u001b[0;34m=\u001b[0m \u001b[0mself\u001b[0m\u001b[0;34m.\u001b[0m\u001b[0m_next_index\u001b[0m\u001b[0;34m(\u001b[0m\u001b[0;34m)\u001b[0m  \u001b[0;31m# may raise StopIteration\u001b[0m\u001b[0;34m\u001b[0m\u001b[0;34m\u001b[0m\u001b[0m\n\u001b[0;32m--> 675\u001b[0;31m         \u001b[0mdata\u001b[0m \u001b[0;34m=\u001b[0m \u001b[0mself\u001b[0m\u001b[0;34m.\u001b[0m\u001b[0m_dataset_fetcher\u001b[0m\u001b[0;34m.\u001b[0m\u001b[0mfetch\u001b[0m\u001b[0;34m(\u001b[0m\u001b[0mindex\u001b[0m\u001b[0;34m)\u001b[0m  \u001b[0;31m# may raise StopIteration\u001b[0m\u001b[0;34m\u001b[0m\u001b[0;34m\u001b[0m\u001b[0m\n\u001b[0m\u001b[1;32m    676\u001b[0m         \u001b[0;32mif\u001b[0m \u001b[0mself\u001b[0m\u001b[0;34m.\u001b[0m\u001b[0m_pin_memory\u001b[0m\u001b[0;34m:\u001b[0m\u001b[0;34m\u001b[0m\u001b[0;34m\u001b[0m\u001b[0m\n\u001b[1;32m    677\u001b[0m             \u001b[0mdata\u001b[0m \u001b[0;34m=\u001b[0m \u001b[0m_utils\u001b[0m\u001b[0;34m.\u001b[0m\u001b[0mpin_memory\u001b[0m\u001b[0;34m.\u001b[0m\u001b[0mpin_memory\u001b[0m\u001b[0;34m(\u001b[0m\u001b[0mdata\u001b[0m\u001b[0;34m,\u001b[0m \u001b[0mself\u001b[0m\u001b[0;34m.\u001b[0m\u001b[0m_pin_memory_device\u001b[0m\u001b[0;34m)\u001b[0m\u001b[0;34m\u001b[0m\u001b[0;34m\u001b[0m\u001b[0m\n",
            "\u001b[0;32m/usr/local/lib/python3.10/dist-packages/torch/utils/data/_utils/fetch.py\u001b[0m in \u001b[0;36mfetch\u001b[0;34m(self, possibly_batched_index)\u001b[0m\n\u001b[1;32m     40\u001b[0m         \u001b[0;32melse\u001b[0m\u001b[0;34m:\u001b[0m\u001b[0;34m\u001b[0m\u001b[0;34m\u001b[0m\u001b[0m\n\u001b[1;32m     41\u001b[0m             \u001b[0mdata\u001b[0m \u001b[0;34m=\u001b[0m \u001b[0mnext\u001b[0m\u001b[0;34m(\u001b[0m\u001b[0mself\u001b[0m\u001b[0;34m.\u001b[0m\u001b[0mdataset_iter\u001b[0m\u001b[0;34m)\u001b[0m\u001b[0;34m\u001b[0m\u001b[0;34m\u001b[0m\u001b[0m\n\u001b[0;32m---> 42\u001b[0;31m         \u001b[0;32mreturn\u001b[0m \u001b[0mself\u001b[0m\u001b[0;34m.\u001b[0m\u001b[0mcollate_fn\u001b[0m\u001b[0;34m(\u001b[0m\u001b[0mdata\u001b[0m\u001b[0;34m)\u001b[0m\u001b[0;34m\u001b[0m\u001b[0;34m\u001b[0m\u001b[0m\n\u001b[0m\u001b[1;32m     43\u001b[0m \u001b[0;34m\u001b[0m\u001b[0m\n\u001b[1;32m     44\u001b[0m \u001b[0;34m\u001b[0m\u001b[0m\n",
            "\u001b[0;32m<ipython-input-23-8f8c72736c28>\u001b[0m in \u001b[0;36mnumpy_collate\u001b[0;34m(batch)\u001b[0m\n\u001b[1;32m      4\u001b[0m   \u001b[0mn\u001b[0m \u001b[0;34m=\u001b[0m \u001b[0mlen\u001b[0m\u001b[0;34m(\u001b[0m\u001b[0mbatch\u001b[0m\u001b[0;34m)\u001b[0m\u001b[0;34m\u001b[0m\u001b[0;34m\u001b[0m\u001b[0m\n\u001b[1;32m      5\u001b[0m   \u001b[0mimgs\u001b[0m \u001b[0;34m=\u001b[0m \u001b[0;34m[\u001b[0m\u001b[0mjnp\u001b[0m\u001b[0;34m.\u001b[0m\u001b[0marray\u001b[0m\u001b[0;34m(\u001b[0m\u001b[0mbatch\u001b[0m\u001b[0;34m[\u001b[0m\u001b[0mi\u001b[0m\u001b[0;34m]\u001b[0m\u001b[0;34m[\u001b[0m\u001b[0;34m'image'\u001b[0m\u001b[0;34m]\u001b[0m\u001b[0;34m)\u001b[0m \u001b[0;32mfor\u001b[0m \u001b[0mi\u001b[0m \u001b[0;32min\u001b[0m \u001b[0mrange\u001b[0m\u001b[0;34m(\u001b[0m\u001b[0mn\u001b[0m\u001b[0;34m)\u001b[0m\u001b[0;34m]\u001b[0m\u001b[0;34m\u001b[0m\u001b[0;34m\u001b[0m\u001b[0m\n\u001b[0;32m----> 6\u001b[0;31m   \u001b[0mimgs\u001b[0m \u001b[0;34m=\u001b[0m \u001b[0;34m[\u001b[0m\u001b[0mds\u001b[0m\u001b[0;34m(\u001b[0m\u001b[0mrgb\u001b[0m\u001b[0;34m(\u001b[0m\u001b[0mimg\u001b[0m\u001b[0;34m)\u001b[0m\u001b[0;34m)\u001b[0m\u001b[0;34m.\u001b[0m\u001b[0mreshape\u001b[0m\u001b[0;34m(\u001b[0m\u001b[0;34m(\u001b[0m\u001b[0;36m256\u001b[0m\u001b[0;34m**\u001b[0m\u001b[0;36m2\u001b[0m\u001b[0;34m,\u001b[0m\u001b[0;36m3\u001b[0m\u001b[0;34m)\u001b[0m\u001b[0;34m)\u001b[0m \u001b[0;32mfor\u001b[0m \u001b[0mimg\u001b[0m \u001b[0;32min\u001b[0m \u001b[0mimgs\u001b[0m\u001b[0;34m]\u001b[0m\u001b[0;34m\u001b[0m\u001b[0;34m\u001b[0m\u001b[0m\n\u001b[0m\u001b[1;32m      7\u001b[0m   \u001b[0mlabels\u001b[0m \u001b[0;34m=\u001b[0m \u001b[0mjnp\u001b[0m\u001b[0;34m.\u001b[0m\u001b[0marray\u001b[0m\u001b[0;34m(\u001b[0m\u001b[0;34m[\u001b[0m\u001b[0mbatch\u001b[0m\u001b[0;34m[\u001b[0m\u001b[0mi\u001b[0m\u001b[0;34m]\u001b[0m\u001b[0;34m[\u001b[0m\u001b[0;34m'label'\u001b[0m\u001b[0;34m]\u001b[0m \u001b[0;32mfor\u001b[0m \u001b[0mi\u001b[0m \u001b[0;32min\u001b[0m \u001b[0mrange\u001b[0m\u001b[0;34m(\u001b[0m\u001b[0mn\u001b[0m\u001b[0;34m)\u001b[0m\u001b[0;34m]\u001b[0m\u001b[0;34m)\u001b[0m\u001b[0;34m\u001b[0m\u001b[0;34m\u001b[0m\u001b[0m\n\u001b[1;32m      8\u001b[0m   \u001b[0mXs\u001b[0m \u001b[0;34m=\u001b[0m \u001b[0mjnp\u001b[0m\u001b[0;34m.\u001b[0m\u001b[0mstack\u001b[0m\u001b[0;34m(\u001b[0m\u001b[0;34m[\u001b[0m\u001b[0mjnp\u001b[0m\u001b[0;34m.\u001b[0m\u001b[0mswapaxes\u001b[0m\u001b[0;34m(\u001b[0m\u001b[0mimg\u001b[0m\u001b[0;34m,\u001b[0m\u001b[0;36m0\u001b[0m\u001b[0;34m,\u001b[0m\u001b[0;36m1\u001b[0m\u001b[0;34m)\u001b[0m \u001b[0;34m@\u001b[0m \u001b[0mX_matrix\u001b[0m\u001b[0;34m.\u001b[0m\u001b[0mT\u001b[0m \u001b[0;32mfor\u001b[0m \u001b[0mimg\u001b[0m \u001b[0;32min\u001b[0m \u001b[0mimgs\u001b[0m\u001b[0;34m]\u001b[0m\u001b[0;34m,\u001b[0m\u001b[0;36m0\u001b[0m\u001b[0;34m)\u001b[0m\u001b[0;34m\u001b[0m\u001b[0;34m\u001b[0m\u001b[0m\n",
            "\u001b[0;32m<ipython-input-23-8f8c72736c28>\u001b[0m in \u001b[0;36m<listcomp>\u001b[0;34m(.0)\u001b[0m\n\u001b[1;32m      4\u001b[0m   \u001b[0mn\u001b[0m \u001b[0;34m=\u001b[0m \u001b[0mlen\u001b[0m\u001b[0;34m(\u001b[0m\u001b[0mbatch\u001b[0m\u001b[0;34m)\u001b[0m\u001b[0;34m\u001b[0m\u001b[0;34m\u001b[0m\u001b[0m\n\u001b[1;32m      5\u001b[0m   \u001b[0mimgs\u001b[0m \u001b[0;34m=\u001b[0m \u001b[0;34m[\u001b[0m\u001b[0mjnp\u001b[0m\u001b[0;34m.\u001b[0m\u001b[0marray\u001b[0m\u001b[0;34m(\u001b[0m\u001b[0mbatch\u001b[0m\u001b[0;34m[\u001b[0m\u001b[0mi\u001b[0m\u001b[0;34m]\u001b[0m\u001b[0;34m[\u001b[0m\u001b[0;34m'image'\u001b[0m\u001b[0;34m]\u001b[0m\u001b[0;34m)\u001b[0m \u001b[0;32mfor\u001b[0m \u001b[0mi\u001b[0m \u001b[0;32min\u001b[0m \u001b[0mrange\u001b[0m\u001b[0;34m(\u001b[0m\u001b[0mn\u001b[0m\u001b[0;34m)\u001b[0m\u001b[0;34m]\u001b[0m\u001b[0;34m\u001b[0m\u001b[0;34m\u001b[0m\u001b[0m\n\u001b[0;32m----> 6\u001b[0;31m   \u001b[0mimgs\u001b[0m \u001b[0;34m=\u001b[0m \u001b[0;34m[\u001b[0m\u001b[0mds\u001b[0m\u001b[0;34m(\u001b[0m\u001b[0mrgb\u001b[0m\u001b[0;34m(\u001b[0m\u001b[0mimg\u001b[0m\u001b[0;34m)\u001b[0m\u001b[0;34m)\u001b[0m\u001b[0;34m.\u001b[0m\u001b[0mreshape\u001b[0m\u001b[0;34m(\u001b[0m\u001b[0;34m(\u001b[0m\u001b[0;36m256\u001b[0m\u001b[0;34m**\u001b[0m\u001b[0;36m2\u001b[0m\u001b[0;34m,\u001b[0m\u001b[0;36m3\u001b[0m\u001b[0;34m)\u001b[0m\u001b[0;34m)\u001b[0m \u001b[0;32mfor\u001b[0m \u001b[0mimg\u001b[0m \u001b[0;32min\u001b[0m \u001b[0mimgs\u001b[0m\u001b[0;34m]\u001b[0m\u001b[0;34m\u001b[0m\u001b[0;34m\u001b[0m\u001b[0m\n\u001b[0m\u001b[1;32m      7\u001b[0m   \u001b[0mlabels\u001b[0m \u001b[0;34m=\u001b[0m \u001b[0mjnp\u001b[0m\u001b[0;34m.\u001b[0m\u001b[0marray\u001b[0m\u001b[0;34m(\u001b[0m\u001b[0;34m[\u001b[0m\u001b[0mbatch\u001b[0m\u001b[0;34m[\u001b[0m\u001b[0mi\u001b[0m\u001b[0;34m]\u001b[0m\u001b[0;34m[\u001b[0m\u001b[0;34m'label'\u001b[0m\u001b[0;34m]\u001b[0m \u001b[0;32mfor\u001b[0m \u001b[0mi\u001b[0m \u001b[0;32min\u001b[0m \u001b[0mrange\u001b[0m\u001b[0;34m(\u001b[0m\u001b[0mn\u001b[0m\u001b[0;34m)\u001b[0m\u001b[0;34m]\u001b[0m\u001b[0;34m)\u001b[0m\u001b[0;34m\u001b[0m\u001b[0;34m\u001b[0m\u001b[0m\n\u001b[1;32m      8\u001b[0m   \u001b[0mXs\u001b[0m \u001b[0;34m=\u001b[0m \u001b[0mjnp\u001b[0m\u001b[0;34m.\u001b[0m\u001b[0mstack\u001b[0m\u001b[0;34m(\u001b[0m\u001b[0;34m[\u001b[0m\u001b[0mjnp\u001b[0m\u001b[0;34m.\u001b[0m\u001b[0mswapaxes\u001b[0m\u001b[0;34m(\u001b[0m\u001b[0mimg\u001b[0m\u001b[0;34m,\u001b[0m\u001b[0;36m0\u001b[0m\u001b[0;34m,\u001b[0m\u001b[0;36m1\u001b[0m\u001b[0;34m)\u001b[0m \u001b[0;34m@\u001b[0m \u001b[0mX_matrix\u001b[0m\u001b[0;34m.\u001b[0m\u001b[0mT\u001b[0m \u001b[0;32mfor\u001b[0m \u001b[0mimg\u001b[0m \u001b[0;32min\u001b[0m \u001b[0mimgs\u001b[0m\u001b[0;34m]\u001b[0m\u001b[0;34m,\u001b[0m\u001b[0;36m0\u001b[0m\u001b[0;34m)\u001b[0m\u001b[0;34m\u001b[0m\u001b[0;34m\u001b[0m\u001b[0m\n",
            "    \u001b[0;31m[... skipping hidden 1 frame]\u001b[0m\n",
            "\u001b[0;32m/usr/local/lib/python3.10/dist-packages/jax/_src/pjit.py\u001b[0m in \u001b[0;36mcache_miss\u001b[0;34m(*args, **kwargs)\u001b[0m\n\u001b[1;32m    296\u001b[0m   \u001b[0;34m@\u001b[0m\u001b[0mapi_boundary\u001b[0m\u001b[0;34m\u001b[0m\u001b[0;34m\u001b[0m\u001b[0m\n\u001b[1;32m    297\u001b[0m   \u001b[0;32mdef\u001b[0m \u001b[0mcache_miss\u001b[0m\u001b[0;34m(\u001b[0m\u001b[0;34m*\u001b[0m\u001b[0margs\u001b[0m\u001b[0;34m,\u001b[0m \u001b[0;34m**\u001b[0m\u001b[0mkwargs\u001b[0m\u001b[0;34m)\u001b[0m\u001b[0;34m:\u001b[0m\u001b[0;34m\u001b[0m\u001b[0;34m\u001b[0m\u001b[0m\n\u001b[0;32m--> 298\u001b[0;31m     outs, out_flat, out_tree, args_flat, jaxpr, attrs_tracked = _python_pjit_helper(\n\u001b[0m\u001b[1;32m    299\u001b[0m         jit_info, *args, **kwargs)\n\u001b[1;32m    300\u001b[0m     \u001b[0mexecutable\u001b[0m \u001b[0;34m=\u001b[0m \u001b[0m_read_most_recent_pjit_call_executable\u001b[0m\u001b[0;34m(\u001b[0m\u001b[0mjaxpr\u001b[0m\u001b[0;34m)\u001b[0m\u001b[0;34m\u001b[0m\u001b[0;34m\u001b[0m\u001b[0m\n",
            "\u001b[0;32m/usr/local/lib/python3.10/dist-packages/jax/_src/pjit.py\u001b[0m in \u001b[0;36m_python_pjit_helper\u001b[0;34m(jit_info, *args, **kwargs)\u001b[0m\n\u001b[1;32m    174\u001b[0m \u001b[0;34m\u001b[0m\u001b[0m\n\u001b[1;32m    175\u001b[0m   \u001b[0;32mtry\u001b[0m\u001b[0;34m:\u001b[0m\u001b[0;34m\u001b[0m\u001b[0;34m\u001b[0m\u001b[0m\n\u001b[0;32m--> 176\u001b[0;31m     \u001b[0mout_flat\u001b[0m \u001b[0;34m=\u001b[0m \u001b[0mpjit_p\u001b[0m\u001b[0;34m.\u001b[0m\u001b[0mbind\u001b[0m\u001b[0;34m(\u001b[0m\u001b[0;34m*\u001b[0m\u001b[0margs_flat\u001b[0m\u001b[0;34m,\u001b[0m \u001b[0;34m**\u001b[0m\u001b[0mparams\u001b[0m\u001b[0;34m)\u001b[0m\u001b[0;34m\u001b[0m\u001b[0;34m\u001b[0m\u001b[0m\n\u001b[0m\u001b[1;32m    177\u001b[0m   \u001b[0;32mexcept\u001b[0m \u001b[0mpxla\u001b[0m\u001b[0;34m.\u001b[0m\u001b[0mDeviceAssignmentMismatchError\u001b[0m \u001b[0;32mas\u001b[0m \u001b[0me\u001b[0m\u001b[0;34m:\u001b[0m\u001b[0;34m\u001b[0m\u001b[0;34m\u001b[0m\u001b[0m\n\u001b[1;32m    178\u001b[0m     \u001b[0mfails\u001b[0m\u001b[0;34m,\u001b[0m \u001b[0;34m=\u001b[0m \u001b[0me\u001b[0m\u001b[0;34m.\u001b[0m\u001b[0margs\u001b[0m\u001b[0;34m\u001b[0m\u001b[0;34m\u001b[0m\u001b[0m\n",
            "\u001b[0;32m/usr/local/lib/python3.10/dist-packages/jax/_src/core.py\u001b[0m in \u001b[0;36mbind\u001b[0;34m(self, *args, **params)\u001b[0m\n\u001b[1;32m   2786\u001b[0m     top_trace = (top_trace if not axis_main or axis_main.level < top_trace.level\n\u001b[1;32m   2787\u001b[0m                  else axis_main.with_cur_sublevel())\n\u001b[0;32m-> 2788\u001b[0;31m     \u001b[0;32mreturn\u001b[0m \u001b[0mself\u001b[0m\u001b[0;34m.\u001b[0m\u001b[0mbind_with_trace\u001b[0m\u001b[0;34m(\u001b[0m\u001b[0mtop_trace\u001b[0m\u001b[0;34m,\u001b[0m \u001b[0margs\u001b[0m\u001b[0;34m,\u001b[0m \u001b[0mparams\u001b[0m\u001b[0;34m)\u001b[0m\u001b[0;34m\u001b[0m\u001b[0;34m\u001b[0m\u001b[0m\n\u001b[0m\u001b[1;32m   2789\u001b[0m \u001b[0;34m\u001b[0m\u001b[0m\n\u001b[1;32m   2790\u001b[0m \u001b[0;34m\u001b[0m\u001b[0m\n",
            "\u001b[0;32m/usr/local/lib/python3.10/dist-packages/jax/_src/core.py\u001b[0m in \u001b[0;36mbind_with_trace\u001b[0;34m(self, trace, args, params)\u001b[0m\n\u001b[1;32m    423\u001b[0m \u001b[0;34m\u001b[0m\u001b[0m\n\u001b[1;32m    424\u001b[0m   \u001b[0;32mdef\u001b[0m \u001b[0mbind_with_trace\u001b[0m\u001b[0;34m(\u001b[0m\u001b[0mself\u001b[0m\u001b[0;34m,\u001b[0m \u001b[0mtrace\u001b[0m\u001b[0;34m,\u001b[0m \u001b[0margs\u001b[0m\u001b[0;34m,\u001b[0m \u001b[0mparams\u001b[0m\u001b[0;34m)\u001b[0m\u001b[0;34m:\u001b[0m\u001b[0;34m\u001b[0m\u001b[0;34m\u001b[0m\u001b[0m\n\u001b[0;32m--> 425\u001b[0;31m     \u001b[0mout\u001b[0m \u001b[0;34m=\u001b[0m \u001b[0mtrace\u001b[0m\u001b[0;34m.\u001b[0m\u001b[0mprocess_primitive\u001b[0m\u001b[0;34m(\u001b[0m\u001b[0mself\u001b[0m\u001b[0;34m,\u001b[0m \u001b[0mmap\u001b[0m\u001b[0;34m(\u001b[0m\u001b[0mtrace\u001b[0m\u001b[0;34m.\u001b[0m\u001b[0mfull_raise\u001b[0m\u001b[0;34m,\u001b[0m \u001b[0margs\u001b[0m\u001b[0;34m)\u001b[0m\u001b[0;34m,\u001b[0m \u001b[0mparams\u001b[0m\u001b[0;34m)\u001b[0m\u001b[0;34m\u001b[0m\u001b[0;34m\u001b[0m\u001b[0m\n\u001b[0m\u001b[1;32m    426\u001b[0m     \u001b[0;32mreturn\u001b[0m \u001b[0mmap\u001b[0m\u001b[0;34m(\u001b[0m\u001b[0mfull_lower\u001b[0m\u001b[0;34m,\u001b[0m \u001b[0mout\u001b[0m\u001b[0;34m)\u001b[0m \u001b[0;32mif\u001b[0m \u001b[0mself\u001b[0m\u001b[0;34m.\u001b[0m\u001b[0mmultiple_results\u001b[0m \u001b[0;32melse\u001b[0m \u001b[0mfull_lower\u001b[0m\u001b[0;34m(\u001b[0m\u001b[0mout\u001b[0m\u001b[0;34m)\u001b[0m\u001b[0;34m\u001b[0m\u001b[0;34m\u001b[0m\u001b[0m\n\u001b[1;32m    427\u001b[0m \u001b[0;34m\u001b[0m\u001b[0m\n",
            "\u001b[0;32m/usr/local/lib/python3.10/dist-packages/jax/_src/core.py\u001b[0m in \u001b[0;36mprocess_primitive\u001b[0;34m(self, primitive, tracers, params)\u001b[0m\n\u001b[1;32m    911\u001b[0m \u001b[0;34m\u001b[0m\u001b[0m\n\u001b[1;32m    912\u001b[0m   \u001b[0;32mdef\u001b[0m \u001b[0mprocess_primitive\u001b[0m\u001b[0;34m(\u001b[0m\u001b[0mself\u001b[0m\u001b[0;34m,\u001b[0m \u001b[0mprimitive\u001b[0m\u001b[0;34m,\u001b[0m \u001b[0mtracers\u001b[0m\u001b[0;34m,\u001b[0m \u001b[0mparams\u001b[0m\u001b[0;34m)\u001b[0m\u001b[0;34m:\u001b[0m\u001b[0;34m\u001b[0m\u001b[0;34m\u001b[0m\u001b[0m\n\u001b[0;32m--> 913\u001b[0;31m     \u001b[0;32mreturn\u001b[0m \u001b[0mprimitive\u001b[0m\u001b[0;34m.\u001b[0m\u001b[0mimpl\u001b[0m\u001b[0;34m(\u001b[0m\u001b[0;34m*\u001b[0m\u001b[0mtracers\u001b[0m\u001b[0;34m,\u001b[0m \u001b[0;34m**\u001b[0m\u001b[0mparams\u001b[0m\u001b[0;34m)\u001b[0m\u001b[0;34m\u001b[0m\u001b[0;34m\u001b[0m\u001b[0m\n\u001b[0m\u001b[1;32m    914\u001b[0m \u001b[0;34m\u001b[0m\u001b[0m\n\u001b[1;32m    915\u001b[0m   \u001b[0;32mdef\u001b[0m \u001b[0mprocess_call\u001b[0m\u001b[0;34m(\u001b[0m\u001b[0mself\u001b[0m\u001b[0;34m,\u001b[0m \u001b[0mprimitive\u001b[0m\u001b[0;34m,\u001b[0m \u001b[0mf\u001b[0m\u001b[0;34m,\u001b[0m \u001b[0mtracers\u001b[0m\u001b[0;34m,\u001b[0m \u001b[0mparams\u001b[0m\u001b[0;34m)\u001b[0m\u001b[0;34m:\u001b[0m\u001b[0;34m\u001b[0m\u001b[0;34m\u001b[0m\u001b[0m\n",
            "\u001b[0;32m/usr/local/lib/python3.10/dist-packages/jax/_src/pjit.py\u001b[0m in \u001b[0;36m_pjit_call_impl\u001b[0;34m(jaxpr, in_shardings, out_shardings, resource_env, donated_invars, name, keep_unused, inline, *args)\u001b[0m\n\u001b[1;32m   1486\u001b[0m       in_shardings, out_shardings, None, None)\n\u001b[1;32m   1487\u001b[0m   \u001b[0;32mif\u001b[0m \u001b[0mxla_extension_version\u001b[0m \u001b[0;34m>=\u001b[0m \u001b[0;36m226\u001b[0m\u001b[0;34m:\u001b[0m\u001b[0;34m\u001b[0m\u001b[0;34m\u001b[0m\u001b[0m\n\u001b[0;32m-> 1488\u001b[0;31m     return xc._xla.pjit(\n\u001b[0m\u001b[1;32m   1489\u001b[0m         \u001b[0mname\u001b[0m\u001b[0;34m,\u001b[0m \u001b[0mf\u001b[0m\u001b[0;34m,\u001b[0m \u001b[0mcall_impl_cache_miss\u001b[0m\u001b[0;34m,\u001b[0m \u001b[0;34m[\u001b[0m\u001b[0;34m]\u001b[0m\u001b[0;34m,\u001b[0m \u001b[0;34m[\u001b[0m\u001b[0;34m]\u001b[0m\u001b[0;34m,\u001b[0m \u001b[0mdonated_argnums\u001b[0m\u001b[0;34m,\u001b[0m\u001b[0;34m\u001b[0m\u001b[0;34m\u001b[0m\u001b[0m\n\u001b[1;32m   1490\u001b[0m         \u001b[0mtree_util\u001b[0m\u001b[0;34m.\u001b[0m\u001b[0mdispatch_registry\u001b[0m\u001b[0;34m,\u001b[0m\u001b[0;34m\u001b[0m\u001b[0;34m\u001b[0m\u001b[0m\n",
            "\u001b[0;32m/usr/local/lib/python3.10/dist-packages/jax/_src/pjit.py\u001b[0m in \u001b[0;36mcall_impl_cache_miss\u001b[0;34m(*args_, **kwargs_)\u001b[0m\n\u001b[1;32m   1469\u001b[0m                     donated_invars, name, keep_unused, inline):\n\u001b[1;32m   1470\u001b[0m   \u001b[0;32mdef\u001b[0m \u001b[0mcall_impl_cache_miss\u001b[0m\u001b[0;34m(\u001b[0m\u001b[0;34m*\u001b[0m\u001b[0margs_\u001b[0m\u001b[0;34m,\u001b[0m \u001b[0;34m**\u001b[0m\u001b[0mkwargs_\u001b[0m\u001b[0;34m)\u001b[0m\u001b[0;34m:\u001b[0m\u001b[0;34m\u001b[0m\u001b[0;34m\u001b[0m\u001b[0m\n\u001b[0;32m-> 1471\u001b[0;31m     out_flat, compiled = _pjit_call_impl_python(\n\u001b[0m\u001b[1;32m   1472\u001b[0m         \u001b[0;34m*\u001b[0m\u001b[0margs\u001b[0m\u001b[0;34m,\u001b[0m \u001b[0mjaxpr\u001b[0m\u001b[0;34m=\u001b[0m\u001b[0mjaxpr\u001b[0m\u001b[0;34m,\u001b[0m \u001b[0min_shardings\u001b[0m\u001b[0;34m=\u001b[0m\u001b[0min_shardings\u001b[0m\u001b[0;34m,\u001b[0m\u001b[0;34m\u001b[0m\u001b[0;34m\u001b[0m\u001b[0m\n\u001b[1;32m   1473\u001b[0m         \u001b[0mout_shardings\u001b[0m\u001b[0;34m=\u001b[0m\u001b[0mout_shardings\u001b[0m\u001b[0;34m,\u001b[0m \u001b[0mresource_env\u001b[0m\u001b[0;34m=\u001b[0m\u001b[0mresource_env\u001b[0m\u001b[0;34m,\u001b[0m\u001b[0;34m\u001b[0m\u001b[0;34m\u001b[0m\u001b[0m\n",
            "\u001b[0;32m/usr/local/lib/python3.10/dist-packages/jax/_src/pjit.py\u001b[0m in \u001b[0;36m_pjit_call_impl_python\u001b[0;34m(jaxpr, in_shardings, out_shardings, resource_env, donated_invars, name, keep_unused, inline, *args)\u001b[0m\n\u001b[1;32m   1401\u001b[0m       resource_env.physical_mesh if resource_env is not None else None)\n\u001b[1;32m   1402\u001b[0m \u001b[0;34m\u001b[0m\u001b[0m\n\u001b[0;32m-> 1403\u001b[0;31m   compiled = _pjit_lower(\n\u001b[0m\u001b[1;32m   1404\u001b[0m       \u001b[0mjaxpr\u001b[0m\u001b[0;34m,\u001b[0m \u001b[0min_shardings\u001b[0m\u001b[0;34m,\u001b[0m \u001b[0mout_shardings\u001b[0m\u001b[0;34m,\u001b[0m \u001b[0mresource_env\u001b[0m\u001b[0;34m,\u001b[0m\u001b[0;34m\u001b[0m\u001b[0;34m\u001b[0m\u001b[0m\n\u001b[1;32m   1405\u001b[0m       \u001b[0mdonated_invars\u001b[0m\u001b[0;34m,\u001b[0m \u001b[0mname\u001b[0m\u001b[0;34m,\u001b[0m \u001b[0mkeep_unused\u001b[0m\u001b[0;34m,\u001b[0m \u001b[0minline\u001b[0m\u001b[0;34m,\u001b[0m\u001b[0;34m\u001b[0m\u001b[0;34m\u001b[0m\u001b[0m\n",
            "\u001b[0;32m/usr/local/lib/python3.10/dist-packages/jax/_src/pjit.py\u001b[0m in \u001b[0;36m_pjit_lower\u001b[0;34m(*args, **kwargs)\u001b[0m\n\u001b[1;32m   1500\u001b[0m \u001b[0;34m\u001b[0m\u001b[0m\n\u001b[1;32m   1501\u001b[0m \u001b[0;32mdef\u001b[0m \u001b[0m_pjit_lower\u001b[0m\u001b[0;34m(\u001b[0m\u001b[0;34m*\u001b[0m\u001b[0margs\u001b[0m\u001b[0;34m,\u001b[0m \u001b[0;34m**\u001b[0m\u001b[0mkwargs\u001b[0m\u001b[0;34m)\u001b[0m\u001b[0;34m:\u001b[0m\u001b[0;34m\u001b[0m\u001b[0;34m\u001b[0m\u001b[0m\n\u001b[0;32m-> 1502\u001b[0;31m   \u001b[0;32mreturn\u001b[0m \u001b[0m_pjit_lower_cached\u001b[0m\u001b[0;34m(\u001b[0m\u001b[0;34m*\u001b[0m\u001b[0margs\u001b[0m\u001b[0;34m,\u001b[0m \u001b[0;34m**\u001b[0m\u001b[0mkwargs\u001b[0m\u001b[0;34m)\u001b[0m\u001b[0;34m\u001b[0m\u001b[0;34m\u001b[0m\u001b[0m\n\u001b[0m\u001b[1;32m   1503\u001b[0m \u001b[0;34m\u001b[0m\u001b[0m\n\u001b[1;32m   1504\u001b[0m \u001b[0;34m\u001b[0m\u001b[0m\n",
            "\u001b[0;32m/usr/local/lib/python3.10/dist-packages/jax/_src/pjit.py\u001b[0m in \u001b[0;36m_pjit_lower_cached\u001b[0;34m(jaxpr, in_shardings, out_shardings, resource_env, donated_invars, name, keep_unused, inline, lowering_parameters, in_layouts, out_layouts)\u001b[0m\n\u001b[1;32m   1544\u001b[0m       lowering_parameters=lowering_parameters)\n\u001b[1;32m   1545\u001b[0m   \u001b[0;32melse\u001b[0m\u001b[0;34m:\u001b[0m\u001b[0;34m\u001b[0m\u001b[0;34m\u001b[0m\u001b[0m\n\u001b[0;32m-> 1546\u001b[0;31m     return pxla.lower_sharding_computation(\n\u001b[0m\u001b[1;32m   1547\u001b[0m         \u001b[0mjaxpr\u001b[0m\u001b[0;34m,\u001b[0m \u001b[0mapi_name\u001b[0m\u001b[0;34m,\u001b[0m \u001b[0mname\u001b[0m\u001b[0;34m,\u001b[0m \u001b[0min_shardings\u001b[0m\u001b[0;34m,\u001b[0m \u001b[0mout_shardings\u001b[0m\u001b[0;34m,\u001b[0m\u001b[0;34m\u001b[0m\u001b[0;34m\u001b[0m\u001b[0m\n\u001b[1;32m   1548\u001b[0m         \u001b[0mtuple\u001b[0m\u001b[0;34m(\u001b[0m\u001b[0mdonated_invars\u001b[0m\u001b[0;34m)\u001b[0m\u001b[0;34m,\u001b[0m \u001b[0mtuple\u001b[0m\u001b[0;34m(\u001b[0m\u001b[0mjaxpr\u001b[0m\u001b[0;34m.\u001b[0m\u001b[0min_avals\u001b[0m\u001b[0;34m)\u001b[0m\u001b[0;34m,\u001b[0m\u001b[0;34m\u001b[0m\u001b[0;34m\u001b[0m\u001b[0m\n",
            "\u001b[0;32m/usr/local/lib/python3.10/dist-packages/jax/_src/profiler.py\u001b[0m in \u001b[0;36mwrapper\u001b[0;34m(*args, **kwargs)\u001b[0m\n\u001b[1;32m    333\u001b[0m   \u001b[0;32mdef\u001b[0m \u001b[0mwrapper\u001b[0m\u001b[0;34m(\u001b[0m\u001b[0;34m*\u001b[0m\u001b[0margs\u001b[0m\u001b[0;34m,\u001b[0m \u001b[0;34m**\u001b[0m\u001b[0mkwargs\u001b[0m\u001b[0;34m)\u001b[0m\u001b[0;34m:\u001b[0m\u001b[0;34m\u001b[0m\u001b[0;34m\u001b[0m\u001b[0m\n\u001b[1;32m    334\u001b[0m     \u001b[0;32mwith\u001b[0m \u001b[0mTraceAnnotation\u001b[0m\u001b[0;34m(\u001b[0m\u001b[0mname\u001b[0m\u001b[0;34m,\u001b[0m \u001b[0;34m**\u001b[0m\u001b[0mdecorator_kwargs\u001b[0m\u001b[0;34m)\u001b[0m\u001b[0;34m:\u001b[0m\u001b[0;34m\u001b[0m\u001b[0;34m\u001b[0m\u001b[0m\n\u001b[0;32m--> 335\u001b[0;31m       \u001b[0;32mreturn\u001b[0m \u001b[0mfunc\u001b[0m\u001b[0;34m(\u001b[0m\u001b[0;34m*\u001b[0m\u001b[0margs\u001b[0m\u001b[0;34m,\u001b[0m \u001b[0;34m**\u001b[0m\u001b[0mkwargs\u001b[0m\u001b[0;34m)\u001b[0m\u001b[0;34m\u001b[0m\u001b[0;34m\u001b[0m\u001b[0m\n\u001b[0m\u001b[1;32m    336\u001b[0m     \u001b[0;32mreturn\u001b[0m \u001b[0mwrapper\u001b[0m\u001b[0;34m\u001b[0m\u001b[0;34m\u001b[0m\u001b[0m\n\u001b[1;32m    337\u001b[0m   \u001b[0;32mreturn\u001b[0m \u001b[0mwrapper\u001b[0m\u001b[0;34m\u001b[0m\u001b[0;34m\u001b[0m\u001b[0m\n",
            "\u001b[0;32m/usr/local/lib/python3.10/dist-packages/jax/_src/interpreters/pxla.py\u001b[0m in \u001b[0;36mlower_sharding_computation\u001b[0;34m(closed_jaxpr, api_name, fun_name, in_shardings, out_shardings, donated_invars, global_in_avals, keep_unused, inline, devices_from_context, lowering_parameters, in_layouts, out_layouts)\u001b[0m\n\u001b[1;32m   2133\u001b[0m \u001b[0;34m\u001b[0m\u001b[0m\n\u001b[1;32m   2134\u001b[0m   (module, keepalive, host_callbacks, unordered_effects, ordered_effects,\n\u001b[0;32m-> 2135\u001b[0;31m    \u001b[0mnreps\u001b[0m\u001b[0;34m,\u001b[0m \u001b[0mtuple_args\u001b[0m\u001b[0;34m,\u001b[0m \u001b[0mshape_poly_state\u001b[0m\u001b[0;34m)\u001b[0m \u001b[0;34m=\u001b[0m \u001b[0m_cached_lowering_to_hlo\u001b[0m\u001b[0;34m(\u001b[0m\u001b[0;34m\u001b[0m\u001b[0;34m\u001b[0m\u001b[0m\n\u001b[0m\u001b[1;32m   2136\u001b[0m        \u001b[0mclosed_jaxpr\u001b[0m\u001b[0;34m,\u001b[0m \u001b[0mapi_name\u001b[0m\u001b[0;34m,\u001b[0m \u001b[0mfun_name\u001b[0m\u001b[0;34m,\u001b[0m \u001b[0mbackend\u001b[0m\u001b[0;34m,\u001b[0m \u001b[0msemantic_in_shardings\u001b[0m\u001b[0;34m,\u001b[0m\u001b[0;34m\u001b[0m\u001b[0;34m\u001b[0m\u001b[0m\n\u001b[1;32m   2137\u001b[0m        \u001b[0msemantic_out_shardings\u001b[0m\u001b[0;34m,\u001b[0m \u001b[0min_layouts\u001b[0m\u001b[0;34m,\u001b[0m \u001b[0mout_layouts\u001b[0m\u001b[0;34m,\u001b[0m \u001b[0mlen\u001b[0m\u001b[0;34m(\u001b[0m\u001b[0mda_object\u001b[0m\u001b[0;34m)\u001b[0m\u001b[0;34m,\u001b[0m\u001b[0;34m\u001b[0m\u001b[0;34m\u001b[0m\u001b[0m\n",
            "\u001b[0;32m/usr/local/lib/python3.10/dist-packages/jax/_src/interpreters/pxla.py\u001b[0m in \u001b[0;36m_cached_lowering_to_hlo\u001b[0;34m(closed_jaxpr, api_name, fun_name, backend, semantic_in_shardings, semantic_out_shardings, in_layouts, out_layouts, num_devices, device_assignment, donated_invars, name_stack, all_default_mem_kind, inout_aliases, lowering_parameters)\u001b[0m\n\u001b[1;32m   1939\u001b[0m         \u001b[0;34m\"Finished jaxpr to MLIR module conversion {fun_name} in {elapsed_time} sec\"\u001b[0m\u001b[0;34m,\u001b[0m\u001b[0;34m\u001b[0m\u001b[0;34m\u001b[0m\u001b[0m\n\u001b[1;32m   1940\u001b[0m         fun_name=str(name_stack), event=dispatch.JAXPR_TO_MLIR_MODULE_EVENT):\n\u001b[0;32m-> 1941\u001b[0;31m     lowering_result = mlir.lower_jaxpr_to_module(\n\u001b[0m\u001b[1;32m   1942\u001b[0m         \u001b[0mmodule_name\u001b[0m\u001b[0;34m,\u001b[0m\u001b[0;34m\u001b[0m\u001b[0;34m\u001b[0m\u001b[0m\n\u001b[1;32m   1943\u001b[0m         \u001b[0mclosed_jaxpr\u001b[0m\u001b[0;34m,\u001b[0m\u001b[0;34m\u001b[0m\u001b[0;34m\u001b[0m\u001b[0m\n",
            "\u001b[0;32m/usr/local/lib/python3.10/dist-packages/jax/_src/interpreters/mlir.py\u001b[0m in \u001b[0;36mlower_jaxpr_to_module\u001b[0;34m(***failed resolving arguments***)\u001b[0m\n\u001b[1;32m    950\u001b[0m                     else out_layouts)\n\u001b[1;32m    951\u001b[0m \u001b[0;34m\u001b[0m\u001b[0m\n\u001b[0;32m--> 952\u001b[0;31m   ctx = ModuleContext(backend_or_name=backend_or_name,\n\u001b[0m\u001b[1;32m    953\u001b[0m                       \u001b[0mplatforms\u001b[0m\u001b[0;34m=\u001b[0m\u001b[0mplatforms\u001b[0m\u001b[0;34m,\u001b[0m \u001b[0maxis_context\u001b[0m\u001b[0;34m=\u001b[0m\u001b[0maxis_context\u001b[0m\u001b[0;34m,\u001b[0m\u001b[0;34m\u001b[0m\u001b[0;34m\u001b[0m\u001b[0m\n\u001b[1;32m    954\u001b[0m                       \u001b[0mkeepalives\u001b[0m\u001b[0;34m=\u001b[0m\u001b[0mkeepalives\u001b[0m\u001b[0;34m,\u001b[0m\u001b[0;34m\u001b[0m\u001b[0;34m\u001b[0m\u001b[0m\n",
            "\u001b[0;32m/usr/local/lib/python3.10/dist-packages/jax/_src/interpreters/mlir.py\u001b[0m in \u001b[0;36m__init__\u001b[0;34m(self, backend_or_name, platforms, axis_context, keepalives, channel_iterator, host_callbacks, lowering_parameters, context, module, ip, symbol_table, cached_primitive_lowerings, traceback_caches, shape_poly_state)\u001b[0m\n\u001b[1;32m    635\u001b[0m       shape_poly_state = None):\n\u001b[1;32m    636\u001b[0m \u001b[0;34m\u001b[0m\u001b[0m\n\u001b[0;32m--> 637\u001b[0;31m     \u001b[0mself\u001b[0m\u001b[0;34m.\u001b[0m\u001b[0mcontext\u001b[0m \u001b[0;34m=\u001b[0m \u001b[0mcontext\u001b[0m \u001b[0;32mor\u001b[0m \u001b[0mmake_ir_context\u001b[0m\u001b[0;34m(\u001b[0m\u001b[0;34m)\u001b[0m\u001b[0;34m\u001b[0m\u001b[0;34m\u001b[0m\u001b[0m\n\u001b[0m\u001b[1;32m    638\u001b[0m     \u001b[0mself\u001b[0m\u001b[0;34m.\u001b[0m\u001b[0mmodule\u001b[0m \u001b[0;34m=\u001b[0m \u001b[0mmodule\u001b[0m \u001b[0;32mor\u001b[0m \u001b[0mir\u001b[0m\u001b[0;34m.\u001b[0m\u001b[0mModule\u001b[0m\u001b[0;34m.\u001b[0m\u001b[0mcreate\u001b[0m\u001b[0;34m(\u001b[0m\u001b[0mloc\u001b[0m\u001b[0;34m=\u001b[0m\u001b[0mir\u001b[0m\u001b[0;34m.\u001b[0m\u001b[0mLocation\u001b[0m\u001b[0;34m.\u001b[0m\u001b[0munknown\u001b[0m\u001b[0;34m(\u001b[0m\u001b[0mself\u001b[0m\u001b[0;34m.\u001b[0m\u001b[0mcontext\u001b[0m\u001b[0;34m)\u001b[0m\u001b[0;34m)\u001b[0m\u001b[0;34m\u001b[0m\u001b[0;34m\u001b[0m\u001b[0m\n\u001b[1;32m    639\u001b[0m     \u001b[0mself\u001b[0m\u001b[0;34m.\u001b[0m\u001b[0mip\u001b[0m \u001b[0;34m=\u001b[0m \u001b[0mip\u001b[0m \u001b[0;32mor\u001b[0m \u001b[0mir\u001b[0m\u001b[0;34m.\u001b[0m\u001b[0mInsertionPoint\u001b[0m\u001b[0;34m(\u001b[0m\u001b[0mself\u001b[0m\u001b[0;34m.\u001b[0m\u001b[0mmodule\u001b[0m\u001b[0;34m.\u001b[0m\u001b[0mbody\u001b[0m\u001b[0;34m)\u001b[0m\u001b[0;34m\u001b[0m\u001b[0;34m\u001b[0m\u001b[0m\n",
            "\u001b[0;32m/usr/local/lib/python3.10/dist-packages/jax/_src/interpreters/mlir.py\u001b[0m in \u001b[0;36mmake_ir_context\u001b[0;34m()\u001b[0m\n\u001b[1;32m    488\u001b[0m \u001b[0;32mdef\u001b[0m \u001b[0mmake_ir_context\u001b[0m\u001b[0;34m(\u001b[0m\u001b[0;34m)\u001b[0m \u001b[0;34m->\u001b[0m \u001b[0mir\u001b[0m\u001b[0;34m.\u001b[0m\u001b[0mContext\u001b[0m\u001b[0;34m:\u001b[0m\u001b[0;34m\u001b[0m\u001b[0;34m\u001b[0m\u001b[0m\n\u001b[1;32m    489\u001b[0m   \u001b[0;34m\"\"\"Creates an MLIR context suitable for JAX IR.\"\"\"\u001b[0m\u001b[0;34m\u001b[0m\u001b[0;34m\u001b[0m\u001b[0m\n\u001b[0;32m--> 490\u001b[0;31m   \u001b[0mcontext\u001b[0m \u001b[0;34m=\u001b[0m \u001b[0mir\u001b[0m\u001b[0;34m.\u001b[0m\u001b[0mContext\u001b[0m\u001b[0;34m(\u001b[0m\u001b[0;34m)\u001b[0m\u001b[0;34m\u001b[0m\u001b[0;34m\u001b[0m\u001b[0m\n\u001b[0m\u001b[1;32m    491\u001b[0m   \u001b[0mcontext\u001b[0m\u001b[0;34m.\u001b[0m\u001b[0mappend_dialect_registry\u001b[0m\u001b[0;34m(\u001b[0m\u001b[0mupstream_dialects\u001b[0m\u001b[0;34m)\u001b[0m\u001b[0;34m\u001b[0m\u001b[0;34m\u001b[0m\u001b[0m\n\u001b[1;32m    492\u001b[0m   \u001b[0mcontext\u001b[0m\u001b[0;34m.\u001b[0m\u001b[0mload_all_available_dialects\u001b[0m\u001b[0;34m(\u001b[0m\u001b[0;34m)\u001b[0m\u001b[0;34m\u001b[0m\u001b[0;34m\u001b[0m\u001b[0m\n",
            "\u001b[0;32m/usr/local/lib/python3.10/dist-packages/jaxlib/mlir/_mlir_libs/__init__.py\u001b[0m in \u001b[0;36m__init__\u001b[0;34m(self, *args, **kwargs)\u001b[0m\n\u001b[1;32m    125\u001b[0m     \u001b[0;32mclass\u001b[0m \u001b[0mContext\u001b[0m\u001b[0;34m(\u001b[0m\u001b[0mir\u001b[0m\u001b[0;34m.\u001b[0m\u001b[0m_BaseContext\u001b[0m\u001b[0;34m)\u001b[0m\u001b[0;34m:\u001b[0m\u001b[0;34m\u001b[0m\u001b[0;34m\u001b[0m\u001b[0m\n\u001b[1;32m    126\u001b[0m         \u001b[0;32mdef\u001b[0m \u001b[0m__init__\u001b[0m\u001b[0;34m(\u001b[0m\u001b[0mself\u001b[0m\u001b[0;34m,\u001b[0m \u001b[0;34m*\u001b[0m\u001b[0margs\u001b[0m\u001b[0;34m,\u001b[0m \u001b[0;34m**\u001b[0m\u001b[0mkwargs\u001b[0m\u001b[0;34m)\u001b[0m\u001b[0;34m:\u001b[0m\u001b[0;34m\u001b[0m\u001b[0;34m\u001b[0m\u001b[0m\n\u001b[0;32m--> 127\u001b[0;31m             \u001b[0msuper\u001b[0m\u001b[0;34m(\u001b[0m\u001b[0;34m)\u001b[0m\u001b[0;34m.\u001b[0m\u001b[0m__init__\u001b[0m\u001b[0;34m(\u001b[0m\u001b[0;34m*\u001b[0m\u001b[0margs\u001b[0m\u001b[0;34m,\u001b[0m \u001b[0;34m**\u001b[0m\u001b[0mkwargs\u001b[0m\u001b[0;34m)\u001b[0m\u001b[0;34m\u001b[0m\u001b[0;34m\u001b[0m\u001b[0m\n\u001b[0m\u001b[1;32m    128\u001b[0m             \u001b[0mself\u001b[0m\u001b[0;34m.\u001b[0m\u001b[0mappend_dialect_registry\u001b[0m\u001b[0;34m(\u001b[0m\u001b[0mget_dialect_registry\u001b[0m\u001b[0;34m(\u001b[0m\u001b[0;34m)\u001b[0m\u001b[0;34m)\u001b[0m\u001b[0;34m\u001b[0m\u001b[0;34m\u001b[0m\u001b[0m\n\u001b[1;32m    129\u001b[0m             \u001b[0;32mfor\u001b[0m \u001b[0mhook\u001b[0m \u001b[0;32min\u001b[0m \u001b[0mpost_init_hooks\u001b[0m\u001b[0;34m:\u001b[0m\u001b[0;34m\u001b[0m\u001b[0;34m\u001b[0m\u001b[0m\n",
            "\u001b[0;31mKeyboardInterrupt\u001b[0m: "
          ]
        }
      ],
      "source": [
        "trainer.train_model(epochs=1)"
      ]
    }
  ],
  "metadata": {
    "colab": {
      "collapsed_sections": [
        "i9XLgI2uu1jo",
        "CeViOCdB-FJ1",
        "THcqzvsF-KcZ",
        "PIryaDMXnfYR",
        "A-xWTwkMnm9Z",
        "k75kGJ3DnsD1",
        "4kibAjXzQ0G-",
        "Pr4CTMhhbtzy",
        "KdMZ_86axbrA",
        "E3yTSgTYusdF",
        "KsF-3hEyjDT2",
        "YqLHauKovHWj",
        "jpWA8ENJx9EB",
        "GYMI4nNFXp32",
        "xENhZHCDXh9i",
        "CxjvVjRIOp3H",
        "ytIWiDC_f6df"
      ],
      "gpuType": "L4",
      "machine_shape": "hm",
      "provenance": []
    },
    "kernelspec": {
      "display_name": "Python 3",
      "name": "python3"
    },
    "language_info": {
      "codemirror_mode": {
        "name": "ipython",
        "version": 3
      },
      "file_extension": ".py",
      "mimetype": "text/x-python",
      "name": "python",
      "nbconvert_exporter": "python",
      "pygments_lexer": "ipython3",
      "version": "3.8.3"
    }
  },
  "nbformat": 4,
  "nbformat_minor": 0
}
